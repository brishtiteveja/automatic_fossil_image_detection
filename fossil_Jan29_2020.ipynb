{
 "cells": [
  {
   "cell_type": "code",
   "execution_count": 1,
   "metadata": {},
   "outputs": [],
   "source": [
    "import cv2 as cv"
   ]
  },
  {
   "cell_type": "code",
   "execution_count": 3,
   "metadata": {},
   "outputs": [
    {
     "name": "stderr",
     "output_type": "stream",
     "text": [
      "Using TensorFlow backend.\n"
     ]
    },
    {
     "name": "stdout",
     "output_type": "stream",
     "text": [
      "Notebook is running.\n",
      "236\n",
      "['Globoconella', 'Planorotalites', 'Globoturborotalita', 'Tenuitella', 'Cribrohantkenina', 'Globotruncana', 'Globigerinoides', 'Globorotalia', 'Pulleniatina', 'Globorotalia', 'Fohsella', 'Acarinina', 'Globigerinoidesella', 'Paragloborotalia', 'Marginotruncana', 'Globorotalia', 'Praeorbulina', 'Globigerina', 'Neogloboquadrina', 'Acarinina', 'Praeorbulina', 'Globuligerina', 'Sphaeroidinellopsis', 'Globorotalia', 'Helvetoglobotruncana', 'Globorotalia', 'Globigerinatheka', 'Subbotina', 'Globorotalia', 'Clavatorella', 'Morozovella', 'Thalmanninella', 'Globigerinoides', 'Globuligerina', 'Gansserina', 'Dentoglobigerina', 'Parvularugoglobigerina', 'Chiloguembelina', 'Globigerina', 'Neogloboquadrina', 'Pseudohastigerina', 'Radotruncana', 'Morozovella', 'Biticinella', 'Morozovella', 'Globigerinelloides', 'Pseudothalmanninella', 'Catapsydrax', 'Globuligerina', 'Globorotalia', 'Fohsella', 'Morozovella', 'Abathomphalus', 'Orbulina', 'Globoturborotalita', 'Globuligerina', 'Paragloborotalia', 'Paragloborotalia', 'Globoconella', 'Globigerinoides', 'Turborotalia', 'Globoquadrina', 'Globotruncana', 'Fohsella', 'Hedbergella', 'Morozovella', 'Morozovelloides', 'Rugoglobigerina', 'Globorotalia', 'Globoconella', 'Rotalipora', 'Planulina', 'Globigerina', 'Globigerinoides', 'Globorotalia', 'Parathalmanninella', 'Planomalina', 'Globorotalia', 'Globanomalina', 'Globorotalia', 'Globuligerina', 'Globotruncanella', 'Globorotalia', 'Globigerinatheka', 'Acarinina', 'Acarinina', 'Dicarinella', 'Conoglobigerina', 'Globanomalina', 'Thalmanninella', 'Cassigerinella', 'Turborotalia', 'Globotruncana', 'Globotruncana', 'Dentoglobigerina', 'Globorotalia', 'Marginotruncana', 'Globorotalia', 'Hedbergella', 'Globigerinatheka', 'Hantkenina', 'Globorotalia', 'Microhedbergella', 'Turborotalia', 'Globorotalia', 'Globorotalia', 'Parasubbotina', 'Orbulinoides', 'Whiteinella', 'Acarinina', 'Praemurica', 'Globorotalia', 'Racemiguembelina', 'Globigerinella', 'Candeina', 'Morozovelloides', 'Morozovella', 'Ticinella', 'Pseudoguembelina', 'Morozovella', 'Globoturborotalita', 'Acarinina', 'Globigerina', 'Racemiguembelina', 'Globanomalina', 'Hantkenina', 'Subbotina', 'Tenuitella', 'Neogloboquadrina', 'Morozovella', 'Turborotalia', 'Globigerinoides', 'Acarinina', 'Pulleniatina', 'Pseudoguembelina', 'Microhedbergella', 'Sphaeroidinellopsis', 'Pseudoguembelina', 'Acarinina', 'Morozovella', 'Globigerinoides', 'Praemurica', 'Tenuitella', 'Globigerinoides', 'Planoglobulina', 'Morozovella', 'Morozovella', 'Fohsella', 'Morozovella', 'Dicarinella', 'Astrorotalia', 'Globoturborotalita', 'Globorotalia', 'Globorotalia', 'Whiteinella', 'Pseudohastigerina', 'Contusotruncana', 'Pseudoguembelina', 'Neogloboquadrina', 'Turborotalia', 'Contusotruncana', 'Globuligerina', 'Microhedbergella', 'Globorotalia', 'Conoglobigerina', 'Fohsella', 'Paraticinella', 'Globorotalia', 'Plummerita', 'Sphaeroidinella', 'Acarinina', 'Globorotalia', 'Parvularugoglobigerina', 'Turborotalita', 'Globotruncanita', 'Leupoldina', 'Archaeoglobigerina', 'Catapsydrax', 'Igorina', 'Globigerina', 'Pseudohastigerina', 'Fohsella', 'Sphaeroidinellopsis', 'Sigalia', 'Subbotina', 'Dicarinella', 'Igorina', 'Acarinina', 'Ventilabrella', 'Globorotalia', 'Dicarinella', 'Pseudothalmanninella', 'Globigerinelloides', 'Acarinina', 'Globorotalia', 'Whiteinella', 'Cassigerinella', 'Globigerinoides', 'Ticinella', 'Globoquadrina', 'Contusotruncana', 'Globigerina', 'Globigerina', 'Pseudotextularia', 'Globigeriantella', 'Globigerinelloides', 'Globigerinoides', 'Globuligerina', 'Globorotalia', 'Pseudotextularia', 'Globanomalina', 'Conoglobigerina', 'Whiteinella', 'Globuligerina', 'Globorotalia', 'Globigerinoides', 'Neogloboquadrina', 'Contusotruncana', 'Paragloborotalia', 'Pulleniatina', 'Acarinina', 'Globigerina', 'Parasubbotina', 'Globigerina', 'Turborotalia', 'Abathomphalus', 'Guembelitrioides', 'Ticinella', 'Trilobatus', 'Globorotalia', 'Praeorbulina', 'Globoturborotalita', 'Globigerinoides', 'Globorotalita']\n",
      "{'Racemiguembelina': [0, 94], 'Ticinella': [1, 82, 103], 'Globorotalia': [2, 7, 16, 31, 33, 34, 36, 38, 41, 42, 59, 68, 84, 86, 90, 115, 132, 136, 155, 156, 176, 177, 189, 193, 209, 211, 215, 221, 234], 'Globoconella': [3, 208], 'Paragloborotalia': [4, 26, 50, 148], 'Globoturborotalita': [5, 24, 32, 71, 98], 'Acarinina': [6, 44, 81, 113, 129, 142, 150, 153, 160, 168, 171, 229], 'Neogloboquadrina': [8, 79, 88, 163, 220], 'Marginotruncana': [9, 133], 'Candeina': [10], 'Conoglobigerina': [11, 107, 231], 'Globigerinella': [12], 'Globigerinatheka': [13, 51, 216], 'Igorina': [14, 77], 'Pseudothalmanninella': [15, 87], 'Hedbergella': [17, 191], 'Sphaeroidinellopsis': [18, 117, 126, 195], 'Pseudotextularia': [19, 232], 'Globotruncana': [20, 60, 62, 85], 'Morozovella': [21, 25, 65, 74, 154, 162, 170, 202, 210, 214, 226, 227], 'Tenuitella': [22, 76, 112], 'Fohsella': [23, 40, 140, 147, 151, 205], 'Globuligerina': [27, 46, 55, 91, 149, 158, 187, 206, 228], 'Pseudoguembelina': [28, 47, 169, 224], 'Globigerinoides': [29, 49, 100, 123, 128, 137, 141, 172, 179, 184, 190, 222], 'Globigerina': [30, 83, 89, 96, 138, 152, 159, 178, 201], 'Parasubbotina': [35, 78], 'Praeorbulina': [37, 54, 108], 'Biticinella': [39], 'Turborotalia': [43, 52, 61, 105, 165, 173], 'Whiteinella': [45, 95, 114, 183], 'Ventilabrella': [48], 'Clavatorella': [53], 'Parvularugoglobigerina': [56, 104], 'Microhedbergella': [57, 111, 122], 'Cassigerinella': [58, 198], 'Subbotina': [63, 93, 213], 'Contusotruncana': [64, 101, 120, 203], 'Abathomphalus': [66, 139], 'Guembelitrioides': [67], 'Pseudohastigerina': [69, 218, 233], 'Thalmanninella': [70, 197], 'Globoquadrina': [72, 166], 'Praemurica': [73, 118], 'Rugoglobigerina': [75], 'Dicarinella': [80, 99, 180, 196], 'Globotruncanita': [92], 'Planorotalites': [97], 'Turborotalita': [102], 'Helvetoglobotruncana': [106], 'Radotruncana': [109], 'Orbulinoides': [110], 'Sigalia': [116], 'Globigerinelloides': [119, 164, 199], 'Dentoglobigerina': [121, 217], 'Globotruncanella': [124], 'Gansserina': [125], 'Globanomalina': [127, 174, 192, 207], 'Planulina': [130], 'Plummerita': [131], 'Pulleniatina': [134, 167, 235], 'Globorotalita': [135], 'Rotalipora': [143], 'Catapsydrax': [144, 145], 'Trilobatus': [146], 'Parathalmanninella': [157], 'Hantkenina': [161, 223], 'Astrorotalia': [175], 'Morozovelloides': [181, 212], 'Leupoldina': [182], 'Archaeoglobigerina': [185], 'Planoglobulina': [186], 'Chiloguembelina': [188], 'Globigerinoidesella': [194], 'Cribrohantkenina': [200], 'Globigeriantella': [204], 'Sphaeroidinella': [219], 'Orbulina': [225], 'Paraticinella': [230]}\n",
      "\n",
      "{'Racemiguembelina': 0, 'Ticinella': 1, 'Globorotalia': 2, 'Globoconella': 3, 'Paragloborotalia': 4, 'Globoturborotalita': 5, 'Acarinina': 6, 'Neogloboquadrina': 7, 'Marginotruncana': 8, 'Candeina': 9, 'Conoglobigerina': 10, 'Globigerinella': 11, 'Globigerinatheka': 12, 'Igorina': 13, 'Pseudothalmanninella': 14, 'Hedbergella': 15, 'Sphaeroidinellopsis': 16, 'Pseudotextularia': 17, 'Globotruncana': 18, 'Morozovella': 19, 'Tenuitella': 20, 'Fohsella': 21, 'Globuligerina': 22, 'Pseudoguembelina': 23, 'Globigerinoides': 24, 'Globigerina': 25, 'Parasubbotina': 26, 'Praeorbulina': 27, 'Biticinella': 28, 'Turborotalia': 29, 'Whiteinella': 30, 'Ventilabrella': 31, 'Clavatorella': 32, 'Parvularugoglobigerina': 33, 'Microhedbergella': 34, 'Cassigerinella': 35, 'Subbotina': 36, 'Contusotruncana': 37, 'Abathomphalus': 38, 'Guembelitrioides': 39, 'Pseudohastigerina': 40, 'Thalmanninella': 41, 'Globoquadrina': 42, 'Praemurica': 43, 'Rugoglobigerina': 44, 'Dicarinella': 45, 'Globotruncanita': 46, 'Planorotalites': 47, 'Turborotalita': 48, 'Helvetoglobotruncana': 49, 'Radotruncana': 50, 'Orbulinoides': 51, 'Sigalia': 52, 'Globigerinelloides': 53, 'Dentoglobigerina': 54, 'Globotruncanella': 55, 'Gansserina': 56, 'Globanomalina': 57, 'Planulina': 58, 'Plummerita': 59, 'Pulleniatina': 60, 'Globorotalita': 61, 'Rotalipora': 62, 'Catapsydrax': 63, 'Trilobatus': 64, 'Parathalmanninella': 65, 'Hantkenina': 66, 'Astrorotalia': 67, 'Morozovelloides': 68, 'Leupoldina': 69, 'Archaeoglobigerina': 70, 'Planoglobulina': 71, 'Chiloguembelina': 72, 'Globigerinoidesella': 73, 'Cribrohantkenina': 74, 'Globigeriantella': 75, 'Sphaeroidinella': 76, 'Orbulina': 77, 'Paraticinella': 78}\n",
      "\n",
      "{0: 0, 94: 0, 1: 1, 82: 1, 103: 1, 2: 2, 7: 2, 16: 2, 31: 2, 33: 2, 34: 2, 36: 2, 38: 2, 41: 2, 42: 2, 59: 2, 68: 2, 84: 2, 86: 2, 90: 2, 115: 2, 132: 2, 136: 2, 155: 2, 156: 2, 176: 2, 177: 2, 189: 2, 193: 2, 209: 2, 211: 2, 215: 2, 221: 2, 234: 2, 3: 3, 208: 3, 4: 4, 26: 4, 50: 4, 148: 4, 5: 5, 24: 5, 32: 5, 71: 5, 98: 5, 6: 6, 44: 6, 81: 6, 113: 6, 129: 6, 142: 6, 150: 6, 153: 6, 160: 6, 168: 6, 171: 6, 229: 6, 8: 7, 79: 7, 88: 7, 163: 7, 220: 7, 9: 8, 133: 8, 10: 9, 11: 10, 107: 10, 231: 10, 12: 11, 13: 12, 51: 12, 216: 12, 14: 13, 77: 13, 15: 14, 87: 14, 17: 15, 191: 15, 18: 16, 117: 16, 126: 16, 195: 16, 19: 17, 232: 17, 20: 18, 60: 18, 62: 18, 85: 18, 21: 19, 25: 19, 65: 19, 74: 19, 154: 19, 162: 19, 170: 19, 202: 19, 210: 19, 214: 19, 226: 19, 227: 19, 22: 20, 76: 20, 112: 20, 23: 21, 40: 21, 140: 21, 147: 21, 151: 21, 205: 21, 27: 22, 46: 22, 55: 22, 91: 22, 149: 22, 158: 22, 187: 22, 206: 22, 228: 22, 28: 23, 47: 23, 169: 23, 224: 23, 29: 24, 49: 24, 100: 24, 123: 24, 128: 24, 137: 24, 141: 24, 172: 24, 179: 24, 184: 24, 190: 24, 222: 24, 30: 25, 83: 25, 89: 25, 96: 25, 138: 25, 152: 25, 159: 25, 178: 25, 201: 25, 35: 26, 78: 26, 37: 27, 54: 27, 108: 27, 39: 28, 43: 29, 52: 29, 61: 29, 105: 29, 165: 29, 173: 29, 45: 30, 95: 30, 114: 30, 183: 30, 48: 31, 53: 32, 56: 33, 104: 33, 57: 34, 111: 34, 122: 34, 58: 35, 198: 35, 63: 36, 93: 36, 213: 36, 64: 37, 101: 37, 120: 37, 203: 37, 66: 38, 139: 38, 67: 39, 69: 40, 218: 40, 233: 40, 70: 41, 197: 41, 72: 42, 166: 42, 73: 43, 118: 43, 75: 44, 80: 45, 99: 45, 180: 45, 196: 45, 92: 46, 97: 47, 102: 48, 106: 49, 109: 50, 110: 51, 116: 52, 119: 53, 164: 53, 199: 53, 121: 54, 217: 54, 124: 55, 125: 56, 127: 57, 174: 57, 192: 57, 207: 57, 130: 58, 131: 59, 134: 60, 167: 60, 235: 60, 135: 61, 143: 62, 144: 63, 145: 63, 146: 64, 157: 65, 161: 66, 223: 66, 175: 67, 181: 68, 212: 68, 182: 69, 185: 70, 186: 71, 188: 72, 194: 73, 200: 74, 204: 75, 219: 76, 225: 77, 230: 78}\n",
      "\n",
      "{0: 'Racemiguembelina', 94: 'Racemiguembelina', 1: 'Ticinella', 82: 'Ticinella', 103: 'Ticinella', 2: 'Globorotalia', 7: 'Globorotalia', 16: 'Globorotalia', 31: 'Globorotalia', 33: 'Globorotalia', 34: 'Globorotalia', 36: 'Globorotalia', 38: 'Globorotalia', 41: 'Globorotalia', 42: 'Globorotalia', 59: 'Globorotalia', 68: 'Globorotalia', 84: 'Globorotalia', 86: 'Globorotalia', 90: 'Globorotalia', 115: 'Globorotalia', 132: 'Globorotalia', 136: 'Globorotalia', 155: 'Globorotalia', 156: 'Globorotalia', 176: 'Globorotalia', 177: 'Globorotalia', 189: 'Globorotalia', 193: 'Globorotalia', 209: 'Globorotalia', 211: 'Globorotalia', 215: 'Globorotalia', 221: 'Globorotalia', 234: 'Globorotalia', 3: 'Globoconella', 208: 'Globoconella', 4: 'Paragloborotalia', 26: 'Paragloborotalia', 50: 'Paragloborotalia', 148: 'Paragloborotalia', 5: 'Globoturborotalita', 24: 'Globoturborotalita', 32: 'Globoturborotalita', 71: 'Globoturborotalita', 98: 'Globoturborotalita', 6: 'Acarinina', 44: 'Acarinina', 81: 'Acarinina', 113: 'Acarinina', 129: 'Acarinina', 142: 'Acarinina', 150: 'Acarinina', 153: 'Acarinina', 160: 'Acarinina', 168: 'Acarinina', 171: 'Acarinina', 229: 'Acarinina', 8: 'Neogloboquadrina', 79: 'Neogloboquadrina', 88: 'Neogloboquadrina', 163: 'Neogloboquadrina', 220: 'Neogloboquadrina', 9: 'Marginotruncana', 133: 'Marginotruncana', 10: 'Candeina', 11: 'Conoglobigerina', 107: 'Conoglobigerina', 231: 'Conoglobigerina', 12: 'Globigerinella', 13: 'Globigerinatheka', 51: 'Globigerinatheka', 216: 'Globigerinatheka', 14: 'Igorina', 77: 'Igorina', 15: 'Pseudothalmanninella', 87: 'Pseudothalmanninella', 17: 'Hedbergella', 191: 'Hedbergella', 18: 'Sphaeroidinellopsis', 117: 'Sphaeroidinellopsis', 126: 'Sphaeroidinellopsis', 195: 'Sphaeroidinellopsis', 19: 'Pseudotextularia', 232: 'Pseudotextularia', 20: 'Globotruncana', 60: 'Globotruncana', 62: 'Globotruncana', 85: 'Globotruncana', 21: 'Morozovella', 25: 'Morozovella', 65: 'Morozovella', 74: 'Morozovella', 154: 'Morozovella', 162: 'Morozovella', 170: 'Morozovella', 202: 'Morozovella', 210: 'Morozovella', 214: 'Morozovella', 226: 'Morozovella', 227: 'Morozovella', 22: 'Tenuitella', 76: 'Tenuitella', 112: 'Tenuitella', 23: 'Fohsella', 40: 'Fohsella', 140: 'Fohsella', 147: 'Fohsella', 151: 'Fohsella', 205: 'Fohsella', 27: 'Globuligerina', 46: 'Globuligerina', 55: 'Globuligerina', 91: 'Globuligerina', 149: 'Globuligerina', 158: 'Globuligerina', 187: 'Globuligerina', 206: 'Globuligerina', 228: 'Globuligerina', 28: 'Pseudoguembelina', 47: 'Pseudoguembelina', 169: 'Pseudoguembelina', 224: 'Pseudoguembelina', 29: 'Globigerinoides', 49: 'Globigerinoides', 100: 'Globigerinoides', 123: 'Globigerinoides', 128: 'Globigerinoides', 137: 'Globigerinoides', 141: 'Globigerinoides', 172: 'Globigerinoides', 179: 'Globigerinoides', 184: 'Globigerinoides', 190: 'Globigerinoides', 222: 'Globigerinoides', 30: 'Globigerina', 83: 'Globigerina', 89: 'Globigerina', 96: 'Globigerina', 138: 'Globigerina', 152: 'Globigerina', 159: 'Globigerina', 178: 'Globigerina', 201: 'Globigerina', 35: 'Parasubbotina', 78: 'Parasubbotina', 37: 'Praeorbulina', 54: 'Praeorbulina', 108: 'Praeorbulina', 39: 'Biticinella', 43: 'Turborotalia', 52: 'Turborotalia', 61: 'Turborotalia', 105: 'Turborotalia', 165: 'Turborotalia', 173: 'Turborotalia', 45: 'Whiteinella', 95: 'Whiteinella', 114: 'Whiteinella', 183: 'Whiteinella', 48: 'Ventilabrella', 53: 'Clavatorella', 56: 'Parvularugoglobigerina', 104: 'Parvularugoglobigerina', 57: 'Microhedbergella', 111: 'Microhedbergella', 122: 'Microhedbergella', 58: 'Cassigerinella', 198: 'Cassigerinella', 63: 'Subbotina', 93: 'Subbotina', 213: 'Subbotina', 64: 'Contusotruncana', 101: 'Contusotruncana', 120: 'Contusotruncana', 203: 'Contusotruncana', 66: 'Abathomphalus', 139: 'Abathomphalus', 67: 'Guembelitrioides', 69: 'Pseudohastigerina', 218: 'Pseudohastigerina', 233: 'Pseudohastigerina', 70: 'Thalmanninella', 197: 'Thalmanninella', 72: 'Globoquadrina', 166: 'Globoquadrina', 73: 'Praemurica', 118: 'Praemurica', 75: 'Rugoglobigerina', 80: 'Dicarinella', 99: 'Dicarinella', 180: 'Dicarinella', 196: 'Dicarinella', 92: 'Globotruncanita', 97: 'Planorotalites', 102: 'Turborotalita', 106: 'Helvetoglobotruncana', 109: 'Radotruncana', 110: 'Orbulinoides', 116: 'Sigalia', 119: 'Globigerinelloides', 164: 'Globigerinelloides', 199: 'Globigerinelloides', 121: 'Dentoglobigerina', 217: 'Dentoglobigerina', 124: 'Globotruncanella', 125: 'Gansserina', 127: 'Globanomalina', 174: 'Globanomalina', 192: 'Globanomalina', 207: 'Globanomalina', 130: 'Planulina', 131: 'Plummerita', 134: 'Pulleniatina', 167: 'Pulleniatina', 235: 'Pulleniatina', 135: 'Globorotalita', 143: 'Rotalipora', 144: 'Catapsydrax', 145: 'Catapsydrax', 146: 'Trilobatus', 157: 'Parathalmanninella', 161: 'Hantkenina', 223: 'Hantkenina', 175: 'Astrorotalia', 181: 'Morozovelloides', 212: 'Morozovelloides', 182: 'Leupoldina', 185: 'Archaeoglobigerina', 186: 'Planoglobulina', 188: 'Chiloguembelina', 194: 'Globigerinoidesella', 200: 'Cribrohantkenina', 204: 'Globigeriantella', 219: 'Sphaeroidinella', 225: 'Orbulina', 230: 'Paraticinella'}\n",
      "\n",
      "['Racemiguembelina', 'Ticinella', 'Globorotalia', 'Globoconella', 'Paragloborotalia', 'Globoturborotalita', 'Acarinina', 'Neogloboquadrina', 'Marginotruncana', 'Candeina', 'Conoglobigerina', 'Globigerinella', 'Globigerinatheka', 'Igorina', 'Pseudothalmanninella', 'Hedbergella', 'Sphaeroidinellopsis', 'Pseudotextularia', 'Globotruncana', 'Morozovella', 'Tenuitella', 'Fohsella', 'Globuligerina', 'Pseudoguembelina', 'Globigerinoides', 'Globigerina', 'Parasubbotina', 'Praeorbulina', 'Biticinella', 'Turborotalia', 'Whiteinella', 'Ventilabrella', 'Clavatorella', 'Parvularugoglobigerina', 'Microhedbergella', 'Cassigerinella', 'Subbotina', 'Contusotruncana', 'Abathomphalus', 'Guembelitrioides', 'Pseudohastigerina', 'Thalmanninella', 'Globoquadrina', 'Praemurica', 'Rugoglobigerina', 'Dicarinella', 'Globotruncanita', 'Planorotalites', 'Turborotalita', 'Helvetoglobotruncana', 'Radotruncana', 'Orbulinoides', 'Sigalia', 'Globigerinelloides', 'Dentoglobigerina', 'Globotruncanella', 'Gansserina', 'Globanomalina', 'Planulina', 'Plummerita', 'Pulleniatina', 'Globorotalita', 'Rotalipora', 'Catapsydrax', 'Trilobatus', 'Parathalmanninella', 'Hantkenina', 'Astrorotalia', 'Morozovelloides', 'Leupoldina', 'Archaeoglobigerina', 'Planoglobulina', 'Chiloguembelina', 'Globigerinoidesella', 'Cribrohantkenina', 'Globigeriantella', 'Sphaeroidinella', 'Orbulina', 'Paraticinella']\n"
     ]
    },
    {
     "name": "stdout",
     "output_type": "stream",
     "text": [
      "(357, 298, 3)\n",
      "0\n",
      "Racemiguembelina\n",
      "(331, 331, 3)\n"
     ]
    },
    {
     "data": {
      "text/plain": [
       "<matplotlib.figure.Figure at 0x2b568dbef1d0>"
      ]
     },
     "metadata": {},
     "output_type": "display_data"
    },
    {
     "name": "stdout",
     "output_type": "stream",
     "text": [
      "(367, 334, 3)\n",
      "1\n",
      "Ticinella\n",
      "(331, 331, 3)\n"
     ]
    },
    {
     "data": {
      "text/plain": [
       "<matplotlib.figure.Figure at 0x2b5695cc93c8>"
      ]
     },
     "metadata": {},
     "output_type": "display_data"
    },
    {
     "name": "stdout",
     "output_type": "stream",
     "text": [
      "(491, 416, 3)\n",
      "2\n",
      "Globorotalia\n",
      "(331, 331, 3)\n"
     ]
    },
    {
     "data": {
      "text/plain": [
       "<matplotlib.figure.Figure at 0x2b5695cf51d0>"
      ]
     },
     "metadata": {},
     "output_type": "display_data"
    },
    {
     "name": "stdout",
     "output_type": "stream",
     "text": [
      "(138, 101, 3)\n",
      "3\n",
      "Globoconella\n",
      "(331, 331, 3)\n"
     ]
    },
    {
     "data": {
      "text/plain": [
       "<matplotlib.figure.Figure at 0x2b5695d52d68>"
      ]
     },
     "metadata": {},
     "output_type": "display_data"
    },
    {
     "name": "stdout",
     "output_type": "stream",
     "text": [
      "(666, 625, 3)\n",
      "4\n",
      "Paragloborotalia\n",
      "(331, 331, 3)\n"
     ]
    },
    {
     "data": {
      "text/plain": [
       "<matplotlib.figure.Figure at 0x2b5695d922b0>"
      ]
     },
     "metadata": {},
     "output_type": "display_data"
    },
    {
     "name": "stdout",
     "output_type": "stream",
     "text": [
      "(387, 332, 3)\n",
      "5\n",
      "Globoturborotalita\n",
      "(331, 331, 3)\n"
     ]
    },
    {
     "data": {
      "text/plain": [
       "<matplotlib.figure.Figure at 0x2b5695dcc240>"
      ]
     },
     "metadata": {},
     "output_type": "display_data"
    },
    {
     "name": "stdout",
     "output_type": "stream",
     "text": [
      "(341, 315, 3)\n",
      "6\n",
      "Acarinina\n",
      "(331, 331, 3)\n"
     ]
    },
    {
     "data": {
      "text/plain": [
       "<matplotlib.figure.Figure at 0x2b5695e0a6a0>"
      ]
     },
     "metadata": {},
     "output_type": "display_data"
    },
    {
     "name": "stdout",
     "output_type": "stream",
     "text": [
      "(455, 402, 3)\n",
      "7\n",
      "Globorotalia\n",
      "(331, 331, 3)\n"
     ]
    },
    {
     "data": {
      "text/plain": [
       "<matplotlib.figure.Figure at 0x2b5695e43470>"
      ]
     },
     "metadata": {},
     "output_type": "display_data"
    },
    {
     "name": "stdout",
     "output_type": "stream",
     "text": [
      "(393, 335, 3)\n",
      "8\n",
      "Neogloboquadrina\n",
      "(331, 331, 3)\n"
     ]
    },
    {
     "data": {
      "text/plain": [
       "<matplotlib.figure.Figure at 0x2b5695e871d0>"
      ]
     },
     "metadata": {},
     "output_type": "display_data"
    },
    {
     "name": "stdout",
     "output_type": "stream",
     "text": [
      "(389, 366, 3)\n",
      "9\n",
      "Marginotruncana\n",
      "(331, 331, 3)\n"
     ]
    },
    {
     "data": {
      "text/plain": [
       "<matplotlib.figure.Figure at 0x2b5695ec0240>"
      ]
     },
     "metadata": {},
     "output_type": "display_data"
    },
    {
     "name": "stdout",
     "output_type": "stream",
     "text": [
      "(420, 415, 3)\n",
      "10\n",
      "Candeina\n",
      "(331, 331, 3)\n"
     ]
    },
    {
     "data": {
      "text/plain": [
       "<matplotlib.figure.Figure at 0x2b5695ee4be0>"
      ]
     },
     "metadata": {},
     "output_type": "display_data"
    },
    {
     "name": "stdout",
     "output_type": "stream",
     "text": [
      "(181, 162, 3)\n",
      "11\n",
      "Conoglobigerina\n",
      "(331, 331, 3)\n"
     ]
    },
    {
     "data": {
      "text/plain": [
       "<matplotlib.figure.Figure at 0x2b5695f37128>"
      ]
     },
     "metadata": {},
     "output_type": "display_data"
    },
    {
     "name": "stdout",
     "output_type": "stream",
     "text": [
      "(403, 316, 3)\n",
      "12\n",
      "Globigerinella\n",
      "(331, 331, 3)\n"
     ]
    },
    {
     "data": {
      "text/plain": [
       "<matplotlib.figure.Figure at 0x2b5695f760f0>"
      ]
     },
     "metadata": {},
     "output_type": "display_data"
    },
    {
     "name": "stdout",
     "output_type": "stream",
     "text": [
      "(243, 212, 3)\n",
      "13\n",
      "Globigerinatheka\n",
      "(331, 331, 3)\n"
     ]
    },
    {
     "data": {
      "text/plain": [
       "<matplotlib.figure.Figure at 0x2b5695fb0400>"
      ]
     },
     "metadata": {},
     "output_type": "display_data"
    },
    {
     "name": "stdout",
     "output_type": "stream",
     "text": [
      "(382, 328, 3)\n",
      "14\n",
      "Igorina\n",
      "(331, 331, 3)\n"
     ]
    },
    {
     "data": {
      "text/plain": [
       "<matplotlib.figure.Figure at 0x2b5695feba90>"
      ]
     },
     "metadata": {},
     "output_type": "display_data"
    },
    {
     "name": "stdout",
     "output_type": "stream",
     "text": [
      "(331, 288, 3)\n",
      "15\n",
      "Pseudothalmanninella\n",
      "(331, 331, 3)\n"
     ]
    },
    {
     "data": {
      "text/plain": [
       "<matplotlib.figure.Figure at 0x2b5696023358>"
      ]
     },
     "metadata": {},
     "output_type": "display_data"
    },
    {
     "name": "stdout",
     "output_type": "stream",
     "text": [
      "(430, 364, 3)\n",
      "16\n",
      "Globorotalia\n",
      "(331, 331, 3)\n"
     ]
    },
    {
     "data": {
      "text/plain": [
       "<matplotlib.figure.Figure at 0x2b5695d52390>"
      ]
     },
     "metadata": {},
     "output_type": "display_data"
    },
    {
     "name": "stdout",
     "output_type": "stream",
     "text": [
      "(202, 202, 3)\n",
      "17\n",
      "Hedbergella\n",
      "(331, 331, 3)\n"
     ]
    },
    {
     "data": {
      "text/plain": [
       "<matplotlib.figure.Figure at 0x2b5692cd9fd0>"
      ]
     },
     "metadata": {},
     "output_type": "display_data"
    },
    {
     "name": "stdout",
     "output_type": "stream",
     "text": [
      "(398, 284, 3)\n",
      "18\n",
      "Sphaeroidinellopsis\n",
      "(331, 331, 3)\n"
     ]
    },
    {
     "data": {
      "text/plain": [
       "<matplotlib.figure.Figure at 0x2b56960069e8>"
      ]
     },
     "metadata": {},
     "output_type": "display_data"
    },
    {
     "name": "stdout",
     "output_type": "stream",
     "text": [
      "(373, 222, 3)\n",
      "19\n",
      "Pseudotextularia\n",
      "(331, 331, 3)\n"
     ]
    },
    {
     "data": {
      "text/plain": [
       "<matplotlib.figure.Figure at 0x2b5695cf28d0>"
      ]
     },
     "metadata": {},
     "output_type": "display_data"
    },
    {
     "name": "stdout",
     "output_type": "stream",
     "text": [
      "(128, 288, 3)\n",
      "20\n",
      "Globotruncana\n",
      "(331, 331, 3)\n"
     ]
    },
    {
     "data": {
      "text/plain": [
       "<matplotlib.figure.Figure at 0x2b5695fc5198>"
      ]
     },
     "metadata": {},
     "output_type": "display_data"
    },
    {
     "name": "stdout",
     "output_type": "stream",
     "text": [
      "(354, 303, 3)\n",
      "21\n",
      "Morozovella\n",
      "(331, 331, 3)\n"
     ]
    },
    {
     "data": {
      "text/plain": [
       "<matplotlib.figure.Figure at 0x2b5695fb7ac8>"
      ]
     },
     "metadata": {},
     "output_type": "display_data"
    },
    {
     "name": "stdout",
     "output_type": "stream",
     "text": [
      "(361, 330, 3)\n",
      "22\n",
      "Tenuitella\n",
      "(331, 331, 3)\n"
     ]
    },
    {
     "data": {
      "text/plain": [
       "<matplotlib.figure.Figure at 0x2b5695f1c1d0>"
      ]
     },
     "metadata": {},
     "output_type": "display_data"
    },
    {
     "name": "stdout",
     "output_type": "stream",
     "text": [
      "(481, 420, 3)\n",
      "23\n",
      "Fohsella\n",
      "(331, 331, 3)\n"
     ]
    },
    {
     "data": {
      "text/plain": [
       "<matplotlib.figure.Figure at 0x2b5695f960b8>"
      ]
     },
     "metadata": {},
     "output_type": "display_data"
    },
    {
     "name": "stdout",
     "output_type": "stream",
     "text": [
      "(340, 305, 3)\n",
      "24\n",
      "Globoturborotalita\n",
      "(331, 331, 3)\n"
     ]
    },
    {
     "data": {
      "text/plain": [
       "<matplotlib.figure.Figure at 0x2b5695f55128>"
      ]
     },
     "metadata": {},
     "output_type": "display_data"
    },
    {
     "name": "stdout",
     "output_type": "stream",
     "text": [
      "(304, 292, 3)\n",
      "25\n",
      "Morozovella\n",
      "(331, 331, 3)\n"
     ]
    },
    {
     "data": {
      "text/plain": [
       "<matplotlib.figure.Figure at 0x2b5695edb518>"
      ]
     },
     "metadata": {},
     "output_type": "display_data"
    },
    {
     "name": "stdout",
     "output_type": "stream",
     "text": [
      "(783, 666, 3)\n",
      "26\n",
      "Paragloborotalia\n",
      "(331, 331, 3)\n"
     ]
    },
    {
     "data": {
      "text/plain": [
       "<matplotlib.figure.Figure at 0x2b5695e61320>"
      ]
     },
     "metadata": {},
     "output_type": "display_data"
    },
    {
     "name": "stdout",
     "output_type": "stream",
     "text": [
      "(365, 312, 3)\n",
      "27\n",
      "Globuligerina\n",
      "(331, 331, 3)\n"
     ]
    },
    {
     "data": {
      "text/plain": [
       "<matplotlib.figure.Figure at 0x2b5695d75908>"
      ]
     },
     "metadata": {},
     "output_type": "display_data"
    },
    {
     "name": "stdout",
     "output_type": "stream",
     "text": [
      "(333, 244, 3)\n",
      "28\n",
      "Pseudoguembelina\n",
      "(331, 331, 3)\n"
     ]
    },
    {
     "data": {
      "text/plain": [
       "<matplotlib.figure.Figure at 0x2b5695ea3ef0>"
      ]
     },
     "metadata": {},
     "output_type": "display_data"
    },
    {
     "name": "stdout",
     "output_type": "stream",
     "text": [
      "(415, 364, 3)\n",
      "29\n",
      "Globigerinoides\n",
      "(331, 331, 3)\n"
     ]
    },
    {
     "data": {
      "text/plain": [
       "<matplotlib.figure.Figure at 0x2b5695df4198>"
      ]
     },
     "metadata": {},
     "output_type": "display_data"
    },
    {
     "name": "stdout",
     "output_type": "stream",
     "text": [
      "(426, 387, 3)\n",
      "30\n",
      "Globigerina\n",
      "(331, 331, 3)\n"
     ]
    },
    {
     "data": {
      "text/plain": [
       "<matplotlib.figure.Figure at 0x2b5695dec630>"
      ]
     },
     "metadata": {},
     "output_type": "display_data"
    },
    {
     "name": "stdout",
     "output_type": "stream",
     "text": [
      "(431, 383, 3)\n",
      "31\n",
      "Globorotalia\n",
      "(331, 331, 3)\n"
     ]
    },
    {
     "data": {
      "text/plain": [
       "<matplotlib.figure.Figure at 0x2b56960a2a20>"
      ]
     },
     "metadata": {},
     "output_type": "display_data"
    },
    {
     "name": "stdout",
     "output_type": "stream",
     "text": [
      "(401, 322, 3)\n",
      "32\n",
      "Globoturborotalita\n",
      "(331, 331, 3)\n"
     ]
    },
    {
     "data": {
      "text/plain": [
       "<matplotlib.figure.Figure at 0x2b56960dde80>"
      ]
     },
     "metadata": {},
     "output_type": "display_data"
    },
    {
     "name": "stdout",
     "output_type": "stream",
     "text": [
      "(405, 358, 3)\n",
      "33\n",
      "Globorotalia\n",
      "(331, 331, 3)\n"
     ]
    },
    {
     "data": {
      "text/plain": [
       "<matplotlib.figure.Figure at 0x2b569611e358>"
      ]
     },
     "metadata": {},
     "output_type": "display_data"
    },
    {
     "name": "stdout",
     "output_type": "stream",
     "text": [
      "(431, 337, 3)\n",
      "34\n",
      "Globorotalia\n",
      "(331, 331, 3)\n"
     ]
    },
    {
     "data": {
      "text/plain": [
       "<matplotlib.figure.Figure at 0x2b5696157160>"
      ]
     },
     "metadata": {},
     "output_type": "display_data"
    },
    {
     "name": "stdout",
     "output_type": "stream",
     "text": [
      "(329, 307, 3)\n",
      "35\n",
      "Parasubbotina\n",
      "(331, 331, 3)\n"
     ]
    },
    {
     "data": {
      "text/plain": [
       "<matplotlib.figure.Figure at 0x2b5696191be0>"
      ]
     },
     "metadata": {},
     "output_type": "display_data"
    },
    {
     "name": "stdout",
     "output_type": "stream",
     "text": [
      "(428, 392, 3)\n",
      "36\n",
      "Globorotalia\n",
      "(331, 331, 3)\n"
     ]
    },
    {
     "data": {
      "text/plain": [
       "<matplotlib.figure.Figure at 0x2b56961d30f0>"
      ]
     },
     "metadata": {},
     "output_type": "display_data"
    },
    {
     "name": "stdout",
     "output_type": "stream",
     "text": [
      "(358, 361, 3)\n",
      "37\n",
      "Praeorbulina\n",
      "(331, 331, 3)\n"
     ]
    },
    {
     "data": {
      "text/plain": [
       "<matplotlib.figure.Figure at 0x2b569620f1d0>"
      ]
     },
     "metadata": {},
     "output_type": "display_data"
    },
    {
     "name": "stdout",
     "output_type": "stream",
     "text": [
      "(423, 396, 3)\n",
      "38\n",
      "Globorotalia\n",
      "(331, 331, 3)\n"
     ]
    },
    {
     "data": {
      "text/plain": [
       "<matplotlib.figure.Figure at 0x2b569624a160>"
      ]
     },
     "metadata": {},
     "output_type": "display_data"
    },
    {
     "name": "stdout",
     "output_type": "stream",
     "text": [
      "(348, 343, 3)\n",
      "39\n",
      "Biticinella\n",
      "(331, 331, 3)\n"
     ]
    },
    {
     "data": {
      "text/plain": [
       "<matplotlib.figure.Figure at 0x2b5696283b38>"
      ]
     },
     "metadata": {},
     "output_type": "display_data"
    },
    {
     "name": "stdout",
     "output_type": "stream",
     "text": [
      "(471, 369, 3)\n",
      "40\n",
      "Fohsella\n",
      "(331, 331, 3)\n"
     ]
    },
    {
     "data": {
      "text/plain": [
       "<matplotlib.figure.Figure at 0x2b56962bfeb8>"
      ]
     },
     "metadata": {},
     "output_type": "display_data"
    },
    {
     "name": "stdout",
     "output_type": "stream",
     "text": [
      "(402, 359, 3)\n",
      "41\n",
      "Globorotalia\n",
      "(331, 331, 3)\n"
     ]
    },
    {
     "data": {
      "text/plain": [
       "<matplotlib.figure.Figure at 0x2b56963005f8>"
      ]
     },
     "metadata": {},
     "output_type": "display_data"
    },
    {
     "name": "stdout",
     "output_type": "stream",
     "text": [
      "(440, 378, 3)\n",
      "42\n",
      "Globorotalia\n",
      "(331, 331, 3)\n"
     ]
    },
    {
     "data": {
      "text/plain": [
       "<matplotlib.figure.Figure at 0x2b5696338198>"
      ]
     },
     "metadata": {},
     "output_type": "display_data"
    },
    {
     "name": "stdout",
     "output_type": "stream",
     "text": [
      "(240, 225, 3)\n",
      "43\n",
      "Turborotalia\n",
      "(331, 331, 3)\n"
     ]
    },
    {
     "data": {
      "text/plain": [
       "<matplotlib.figure.Figure at 0x2b5696373a90>"
      ]
     },
     "metadata": {},
     "output_type": "display_data"
    },
    {
     "name": "stdout",
     "output_type": "stream",
     "text": [
      "(287, 235, 3)\n",
      "44\n",
      "Acarinina\n",
      "(331, 331, 3)\n"
     ]
    },
    {
     "data": {
      "text/plain": [
       "<matplotlib.figure.Figure at 0x2b56963aefd0>"
      ]
     },
     "metadata": {},
     "output_type": "display_data"
    },
    {
     "name": "stdout",
     "output_type": "stream",
     "text": [
      "(246, 220, 3)\n",
      "45\n",
      "Whiteinella\n",
      "(331, 331, 3)\n"
     ]
    },
    {
     "data": {
      "text/plain": [
       "<matplotlib.figure.Figure at 0x2b56963ee1d0>"
      ]
     },
     "metadata": {},
     "output_type": "display_data"
    },
    {
     "name": "stdout",
     "output_type": "stream",
     "text": [
      "(213, 180, 3)\n",
      "46\n",
      "Globuligerina\n",
      "(331, 331, 3)\n"
     ]
    },
    {
     "data": {
      "text/plain": [
       "<matplotlib.figure.Figure at 0x2b56964401d0>"
      ]
     },
     "metadata": {},
     "output_type": "display_data"
    },
    {
     "name": "stdout",
     "output_type": "stream",
     "text": [
      "(314, 207, 3)\n",
      "47\n",
      "Pseudoguembelina\n",
      "(331, 331, 3)\n"
     ]
    },
    {
     "data": {
      "text/plain": [
       "<matplotlib.figure.Figure at 0x2b5696432748>"
      ]
     },
     "metadata": {},
     "output_type": "display_data"
    },
    {
     "name": "stdout",
     "output_type": "stream",
     "text": [
      "(245, 199, 3)\n",
      "48\n",
      "Ventilabrella\n",
      "(331, 331, 3)\n"
     ]
    },
    {
     "data": {
      "text/plain": [
       "<matplotlib.figure.Figure at 0x2b5696432668>"
      ]
     },
     "metadata": {},
     "output_type": "display_data"
    },
    {
     "name": "stdout",
     "output_type": "stream",
     "text": [
      "(307, 287, 3)\n",
      "49\n",
      "Globigerinoides\n",
      "(331, 331, 3)\n"
     ]
    },
    {
     "data": {
      "text/plain": [
       "<matplotlib.figure.Figure at 0x2b56964397b8>"
      ]
     },
     "metadata": {},
     "output_type": "display_data"
    },
    {
     "name": "stdout",
     "output_type": "stream",
     "text": [
      "(907, 783, 3)\n",
      "50\n",
      "Paragloborotalia\n",
      "(331, 331, 3)\n"
     ]
    },
    {
     "data": {
      "text/plain": [
       "<matplotlib.figure.Figure at 0x2b5695f1e550>"
      ]
     },
     "metadata": {},
     "output_type": "display_data"
    },
    {
     "name": "stdout",
     "output_type": "stream",
     "text": [
      "(315, 314, 3)\n",
      "51\n",
      "Globigerinatheka\n",
      "(331, 331, 3)\n"
     ]
    },
    {
     "data": {
      "text/plain": [
       "<matplotlib.figure.Figure at 0x2b569647e128>"
      ]
     },
     "metadata": {},
     "output_type": "display_data"
    },
    {
     "name": "stdout",
     "output_type": "stream",
     "text": [
      "(282, 233, 3)\n",
      "52\n",
      "Turborotalia\n",
      "(331, 331, 3)\n"
     ]
    },
    {
     "data": {
      "text/plain": [
       "<matplotlib.figure.Figure at 0x2b5695d67fd0>"
      ]
     },
     "metadata": {},
     "output_type": "display_data"
    },
    {
     "name": "stdout",
     "output_type": "stream",
     "text": [
      "(468, 449, 3)\n",
      "53\n",
      "Clavatorella\n",
      "(331, 331, 3)\n"
     ]
    },
    {
     "data": {
      "text/plain": [
       "<matplotlib.figure.Figure at 0x2b569642d1d0>"
      ]
     },
     "metadata": {},
     "output_type": "display_data"
    },
    {
     "name": "stdout",
     "output_type": "stream",
     "text": [
      "(450, 465, 3)\n",
      "54\n",
      "Praeorbulina\n",
      "(331, 331, 3)\n"
     ]
    },
    {
     "data": {
      "text/plain": [
       "<matplotlib.figure.Figure at 0x2b56963b56a0>"
      ]
     },
     "metadata": {},
     "output_type": "display_data"
    },
    {
     "name": "stdout",
     "output_type": "stream",
     "text": [
      "(120, 180, 3)\n",
      "55\n",
      "Globuligerina\n",
      "(331, 331, 3)\n"
     ]
    },
    {
     "data": {
      "text/plain": [
       "<matplotlib.figure.Figure at 0x2b5696376438>"
      ]
     },
     "metadata": {},
     "output_type": "display_data"
    },
    {
     "name": "stdout",
     "output_type": "stream",
     "text": [
      "(375, 336, 3)\n",
      "56\n",
      "Parvularugoglobigerina\n",
      "(331, 331, 3)\n"
     ]
    },
    {
     "data": {
      "text/plain": [
       "<matplotlib.figure.Figure at 0x2b56962c3f60>"
      ]
     },
     "metadata": {},
     "output_type": "display_data"
    },
    {
     "name": "stdout",
     "output_type": "stream",
     "text": [
      "(160, 132, 3)\n",
      "57\n",
      "Microhedbergella\n",
      "(331, 331, 3)\n"
     ]
    },
    {
     "data": {
      "text/plain": [
       "<matplotlib.figure.Figure at 0x2b5695f1f198>"
      ]
     },
     "metadata": {},
     "output_type": "display_data"
    },
    {
     "name": "stdout",
     "output_type": "stream",
     "text": [
      "(373, 332, 3)\n",
      "58\n",
      "Cassigerinella\n",
      "(331, 331, 3)\n"
     ]
    },
    {
     "data": {
      "text/plain": [
       "<matplotlib.figure.Figure at 0x2b5695d72518>"
      ]
     },
     "metadata": {},
     "output_type": "display_data"
    },
    {
     "name": "stdout",
     "output_type": "stream",
     "text": [
      "(237, 188, 3)\n",
      "59\n",
      "Globorotalia\n",
      "(331, 331, 3)\n"
     ]
    },
    {
     "data": {
      "text/plain": [
       "<matplotlib.figure.Figure at 0x2b5696362dd8>"
      ]
     },
     "metadata": {},
     "output_type": "display_data"
    },
    {
     "name": "stdout",
     "output_type": "stream",
     "text": [
      "(375, 303, 3)\n",
      "60\n",
      "Globotruncana\n",
      "(331, 331, 3)\n"
     ]
    },
    {
     "data": {
      "text/plain": [
       "<matplotlib.figure.Figure at 0x2b56962f4390>"
      ]
     },
     "metadata": {},
     "output_type": "display_data"
    },
    {
     "name": "stdout",
     "output_type": "stream",
     "text": [
      "(263, 233, 3)\n",
      "61\n",
      "Turborotalia\n",
      "(331, 331, 3)\n"
     ]
    },
    {
     "data": {
      "text/plain": [
       "<matplotlib.figure.Figure at 0x2b5696282278>"
      ]
     },
     "metadata": {},
     "output_type": "display_data"
    },
    {
     "name": "stdout",
     "output_type": "stream",
     "text": [
      "(286, 265, 3)\n",
      "62\n",
      "Globotruncana\n",
      "(331, 331, 3)\n"
     ]
    },
    {
     "data": {
      "text/plain": [
       "<matplotlib.figure.Figure at 0x2b5695dd40f0>"
      ]
     },
     "metadata": {},
     "output_type": "display_data"
    },
    {
     "name": "stdout",
     "output_type": "stream",
     "text": [
      "(293, 324, 3)\n",
      "63\n",
      "Subbotina\n",
      "(331, 331, 3)\n"
     ]
    },
    {
     "data": {
      "text/plain": [
       "<matplotlib.figure.Figure at 0x2b5695fbe128>"
      ]
     },
     "metadata": {},
     "output_type": "display_data"
    },
    {
     "name": "stdout",
     "output_type": "stream",
     "text": [
      "(248, 236, 3)\n",
      "64\n",
      "Contusotruncana\n",
      "(331, 331, 3)\n"
     ]
    },
    {
     "data": {
      "text/plain": [
       "<matplotlib.figure.Figure at 0x2b5695f9ba20>"
      ]
     },
     "metadata": {},
     "output_type": "display_data"
    },
    {
     "name": "stdout",
     "output_type": "stream",
     "text": [
      "(295, 290, 3)\n",
      "65\n",
      "Morozovella\n",
      "(331, 331, 3)\n"
     ]
    },
    {
     "data": {
      "text/plain": [
       "<matplotlib.figure.Figure at 0x2b5695e993c8>"
      ]
     },
     "metadata": {},
     "output_type": "display_data"
    },
    {
     "name": "stdout",
     "output_type": "stream",
     "text": [
      "(360, 286, 3)\n",
      "66\n",
      "Abathomphalus\n",
      "(331, 331, 3)\n"
     ]
    },
    {
     "data": {
      "text/plain": [
       "<matplotlib.figure.Figure at 0x2b5696007358>"
      ]
     },
     "metadata": {},
     "output_type": "display_data"
    },
    {
     "name": "stdout",
     "output_type": "stream",
     "text": [
      "(298, 287, 3)\n",
      "67\n",
      "Guembelitrioides\n",
      "(331, 331, 3)\n"
     ]
    },
    {
     "data": {
      "text/plain": [
       "<matplotlib.figure.Figure at 0x2b5695e551d0>"
      ]
     },
     "metadata": {},
     "output_type": "display_data"
    },
    {
     "name": "stdout",
     "output_type": "stream",
     "text": [
      "(574, 520, 3)\n",
      "68\n",
      "Globorotalia\n",
      "(331, 331, 3)\n"
     ]
    },
    {
     "data": {
      "text/plain": [
       "<matplotlib.figure.Figure at 0x2b5695e0e320>"
      ]
     },
     "metadata": {},
     "output_type": "display_data"
    },
    {
     "name": "stdout",
     "output_type": "stream",
     "text": [
      "(367, 305, 3)\n",
      "69\n",
      "Pseudohastigerina\n",
      "(331, 331, 3)\n"
     ]
    },
    {
     "data": {
      "text/plain": [
       "<matplotlib.figure.Figure at 0x2b5696109358>"
      ]
     },
     "metadata": {},
     "output_type": "display_data"
    },
    {
     "name": "stdout",
     "output_type": "stream",
     "text": [
      "(326, 313, 3)\n",
      "70\n",
      "Thalmanninella\n",
      "(331, 331, 3)\n"
     ]
    },
    {
     "data": {
      "text/plain": [
       "<matplotlib.figure.Figure at 0x2b569620a6a0>"
      ]
     },
     "metadata": {},
     "output_type": "display_data"
    },
    {
     "name": "stdout",
     "output_type": "stream",
     "text": [
      "(120, 120, 3)\n",
      "71\n",
      "Globoturborotalita\n",
      "(331, 331, 3)\n"
     ]
    },
    {
     "data": {
      "text/plain": [
       "<matplotlib.figure.Figure at 0x2b5696197320>"
      ]
     },
     "metadata": {},
     "output_type": "display_data"
    },
    {
     "name": "stdout",
     "output_type": "stream",
     "text": [
      "(346, 332, 3)\n",
      "72\n",
      "Globoquadrina\n",
      "(331, 331, 3)\n"
     ]
    },
    {
     "data": {
      "text/plain": [
       "<matplotlib.figure.Figure at 0x2b56960cb4e0>"
      ]
     },
     "metadata": {},
     "output_type": "display_data"
    },
    {
     "name": "stdout",
     "output_type": "stream",
     "text": [
      "(307, 282, 3)\n",
      "73\n",
      "Praemurica\n",
      "(331, 331, 3)\n"
     ]
    },
    {
     "data": {
      "text/plain": [
       "<matplotlib.figure.Figure at 0x2b5696058208>"
      ]
     },
     "metadata": {},
     "output_type": "display_data"
    },
    {
     "name": "stdout",
     "output_type": "stream",
     "text": [
      "(342, 288, 3)\n",
      "74\n",
      "Morozovella\n",
      "(331, 331, 3)\n"
     ]
    },
    {
     "data": {
      "text/plain": [
       "<matplotlib.figure.Figure at 0x2b5695f351d0>"
      ]
     },
     "metadata": {},
     "output_type": "display_data"
    },
    {
     "name": "stdout",
     "output_type": "stream",
     "text": [
      "(361, 368, 3)\n",
      "75\n",
      "Rugoglobigerina\n",
      "(331, 331, 3)\n"
     ]
    },
    {
     "data": {
      "text/plain": [
       "<matplotlib.figure.Figure at 0x2b5695ee3a90>"
      ]
     },
     "metadata": {},
     "output_type": "display_data"
    },
    {
     "name": "stdout",
     "output_type": "stream",
     "text": [
      "(271, 237, 3)\n",
      "76\n",
      "Tenuitella\n",
      "(331, 331, 3)\n"
     ]
    },
    {
     "data": {
      "text/plain": [
       "<matplotlib.figure.Figure at 0x2b5695ee63c8>"
      ]
     },
     "metadata": {},
     "output_type": "display_data"
    },
    {
     "name": "stdout",
     "output_type": "stream",
     "text": [
      "(367, 317, 3)\n",
      "77\n",
      "Igorina\n",
      "(331, 331, 3)\n"
     ]
    },
    {
     "data": {
      "text/plain": [
       "<matplotlib.figure.Figure at 0x2b56960801d0>"
      ]
     },
     "metadata": {},
     "output_type": "display_data"
    },
    {
     "name": "stdout",
     "output_type": "stream",
     "text": [
      "(315, 278, 3)\n",
      "78\n",
      "Parasubbotina\n",
      "(331, 331, 3)\n"
     ]
    },
    {
     "data": {
      "text/plain": [
       "<matplotlib.figure.Figure at 0x2b56961696d8>"
      ]
     },
     "metadata": {},
     "output_type": "display_data"
    },
    {
     "name": "stdout",
     "output_type": "stream",
     "text": [
      "(186, 174, 3)\n",
      "79\n",
      "Neogloboquadrina\n",
      "(331, 331, 3)\n"
     ]
    },
    {
     "data": {
      "text/plain": [
       "<matplotlib.figure.Figure at 0x2b56961d7cc0>"
      ]
     },
     "metadata": {},
     "output_type": "display_data"
    },
    {
     "name": "stdout",
     "output_type": "stream",
     "text": [
      "(423, 380, 3)\n",
      "80\n",
      "Dicarinella\n",
      "(331, 331, 3)\n"
     ]
    },
    {
     "data": {
      "text/plain": [
       "<matplotlib.figure.Figure at 0x2b5695d8b390>"
      ]
     },
     "metadata": {},
     "output_type": "display_data"
    },
    {
     "name": "stdout",
     "output_type": "stream",
     "text": [
      "(304, 269, 3)\n",
      "81\n",
      "Acarinina\n",
      "(331, 331, 3)\n"
     ]
    },
    {
     "data": {
      "text/plain": [
       "<matplotlib.figure.Figure at 0x2b5695d8b080>"
      ]
     },
     "metadata": {},
     "output_type": "display_data"
    },
    {
     "name": "stdout",
     "output_type": "stream",
     "text": [
      "(195, 164, 3)\n",
      "82\n",
      "Ticinella\n",
      "(331, 331, 3)\n"
     ]
    },
    {
     "data": {
      "text/plain": [
       "<matplotlib.figure.Figure at 0x2b5695efbc50>"
      ]
     },
     "metadata": {},
     "output_type": "display_data"
    },
    {
     "name": "stdout",
     "output_type": "stream",
     "text": [
      "(721, 667, 3)\n",
      "83\n",
      "Globigerina\n",
      "(331, 331, 3)\n"
     ]
    },
    {
     "data": {
      "text/plain": [
       "<matplotlib.figure.Figure at 0x2b5696230978>"
      ]
     },
     "metadata": {},
     "output_type": "display_data"
    },
    {
     "name": "stdout",
     "output_type": "stream",
     "text": [
      "(384, 297, 3)\n",
      "84\n",
      "Globorotalia\n",
      "(331, 331, 3)\n"
     ]
    },
    {
     "data": {
      "text/plain": [
       "<matplotlib.figure.Figure at 0x2b5695d5b6d8>"
      ]
     },
     "metadata": {},
     "output_type": "display_data"
    },
    {
     "name": "stdout",
     "output_type": "stream",
     "text": [
      "(335, 284, 3)\n",
      "85\n",
      "Globotruncana\n",
      "(331, 331, 3)\n"
     ]
    },
    {
     "data": {
      "text/plain": [
       "<matplotlib.figure.Figure at 0x2b5695cf8208>"
      ]
     },
     "metadata": {},
     "output_type": "display_data"
    },
    {
     "name": "stdout",
     "output_type": "stream",
     "text": [
      "(422, 336, 3)\n",
      "86\n",
      "Globorotalia\n",
      "(331, 331, 3)\n"
     ]
    },
    {
     "data": {
      "text/plain": [
       "<matplotlib.figure.Figure at 0x2b5696136630>"
      ]
     },
     "metadata": {},
     "output_type": "display_data"
    },
    {
     "name": "stdout",
     "output_type": "stream",
     "text": [
      "(209, 200, 3)\n",
      "87\n",
      "Pseudothalmanninella\n",
      "(331, 331, 3)\n"
     ]
    },
    {
     "data": {
      "text/plain": [
       "<matplotlib.figure.Figure at 0x2b5695ee1080>"
      ]
     },
     "metadata": {},
     "output_type": "display_data"
    },
    {
     "name": "stdout",
     "output_type": "stream",
     "text": [
      "(399, 390, 3)\n",
      "88\n",
      "Neogloboquadrina\n",
      "(331, 331, 3)\n"
     ]
    },
    {
     "data": {
      "text/plain": [
       "<matplotlib.figure.Figure at 0x2b569609c3c8>"
      ]
     },
     "metadata": {},
     "output_type": "display_data"
    },
    {
     "name": "stdout",
     "output_type": "stream",
     "text": [
      "(191, 160, 3)\n",
      "89\n",
      "Globigerina\n",
      "(331, 331, 3)\n"
     ]
    },
    {
     "data": {
      "text/plain": [
       "<matplotlib.figure.Figure at 0x2b56960e60f0>"
      ]
     },
     "metadata": {},
     "output_type": "display_data"
    },
    {
     "name": "stdout",
     "output_type": "stream",
     "text": [
      "(120, 120, 3)\n",
      "90\n",
      "Globorotalia\n",
      "(331, 331, 3)\n"
     ]
    },
    {
     "data": {
      "text/plain": [
       "<matplotlib.figure.Figure at 0x2b5695ef7630>"
      ]
     },
     "metadata": {},
     "output_type": "display_data"
    },
    {
     "name": "stdout",
     "output_type": "stream",
     "text": [
      "(264, 238, 3)\n",
      "91\n",
      "Globuligerina\n",
      "(331, 331, 3)\n"
     ]
    },
    {
     "data": {
      "text/plain": [
       "<matplotlib.figure.Figure at 0x2b5695d703c8>"
      ]
     },
     "metadata": {},
     "output_type": "display_data"
    },
    {
     "name": "stdout",
     "output_type": "stream",
     "text": [
      "(327, 305, 3)\n",
      "92\n",
      "Globotruncanita\n",
      "(331, 331, 3)\n"
     ]
    },
    {
     "data": {
      "text/plain": [
       "<matplotlib.figure.Figure at 0x2b5696103160>"
      ]
     },
     "metadata": {},
     "output_type": "display_data"
    },
    {
     "name": "stdout",
     "output_type": "stream",
     "text": [
      "(303, 267, 3)\n",
      "93\n",
      "Subbotina\n",
      "(331, 331, 3)\n"
     ]
    },
    {
     "data": {
      "text/plain": [
       "<matplotlib.figure.Figure at 0x2b5696059320>"
      ]
     },
     "metadata": {},
     "output_type": "display_data"
    },
    {
     "name": "stdout",
     "output_type": "stream",
     "text": [
      "(433, 384, 3)\n",
      "94\n",
      "Racemiguembelina\n",
      "(331, 331, 3)\n"
     ]
    },
    {
     "data": {
      "text/plain": [
       "<matplotlib.figure.Figure at 0x2b5696178d68>"
      ]
     },
     "metadata": {},
     "output_type": "display_data"
    },
    {
     "name": "stdout",
     "output_type": "stream",
     "text": [
      "(341, 335, 3)\n",
      "95\n",
      "Whiteinella\n",
      "(331, 331, 3)\n"
     ]
    },
    {
     "data": {
      "text/plain": [
       "<matplotlib.figure.Figure at 0x2b5695f8b3c8>"
      ]
     },
     "metadata": {},
     "output_type": "display_data"
    },
    {
     "name": "stdout",
     "output_type": "stream",
     "text": [
      "(812, 729, 3)\n",
      "96\n",
      "Globigerina\n",
      "(331, 331, 3)\n"
     ]
    },
    {
     "data": {
      "text/plain": [
       "<matplotlib.figure.Figure at 0x2b5695e8e518>"
      ]
     },
     "metadata": {},
     "output_type": "display_data"
    },
    {
     "name": "stdout",
     "output_type": "stream",
     "text": [
      "(290, 273, 3)\n",
      "97\n",
      "Planorotalites\n",
      "(331, 331, 3)\n"
     ]
    },
    {
     "data": {
      "text/plain": [
       "<matplotlib.figure.Figure at 0x2b5695dc10b8>"
      ]
     },
     "metadata": {},
     "output_type": "display_data"
    },
    {
     "name": "stdout",
     "output_type": "stream",
     "text": [
      "(426, 392, 3)\n",
      "98\n",
      "Globoturborotalita\n",
      "(331, 331, 3)\n"
     ]
    },
    {
     "data": {
      "text/plain": [
       "<matplotlib.figure.Figure at 0x2b5695e5aa58>"
      ]
     },
     "metadata": {},
     "output_type": "display_data"
    },
    {
     "name": "stdout",
     "output_type": "stream",
     "text": [
      "(327, 281, 3)\n",
      "99\n",
      "Dicarinella\n",
      "(331, 331, 3)\n"
     ]
    },
    {
     "data": {
      "text/plain": [
       "<matplotlib.figure.Figure at 0x2b5695e0e1d0>"
      ]
     },
     "metadata": {},
     "output_type": "display_data"
    },
    {
     "name": "stdout",
     "output_type": "stream",
     "text": [
      "(435, 367, 3)\n",
      "100\n",
      "Globigerinoides\n",
      "(331, 331, 3)\n"
     ]
    },
    {
     "data": {
      "text/plain": [
       "<matplotlib.figure.Figure at 0x2b5696208940>"
      ]
     },
     "metadata": {},
     "output_type": "display_data"
    },
    {
     "name": "stdout",
     "output_type": "stream",
     "text": [
      "(368, 359, 3)\n",
      "101\n",
      "Contusotruncana\n",
      "(331, 331, 3)\n"
     ]
    },
    {
     "data": {
      "text/plain": [
       "<matplotlib.figure.Figure at 0x2b5695fc2550>"
      ]
     },
     "metadata": {},
     "output_type": "display_data"
    },
    {
     "name": "stdout",
     "output_type": "stream",
     "text": [
      "(175, 490, 3)\n",
      "102\n",
      "Turborotalita\n",
      "(331, 331, 3)\n"
     ]
    },
    {
     "data": {
      "text/plain": [
       "<matplotlib.figure.Figure at 0x2b5696023b38>"
      ]
     },
     "metadata": {},
     "output_type": "display_data"
    },
    {
     "name": "stdout",
     "output_type": "stream",
     "text": [
      "(150, 128, 3)\n",
      "103\n",
      "Ticinella\n",
      "(331, 331, 3)\n"
     ]
    },
    {
     "data": {
      "text/plain": [
       "<matplotlib.figure.Figure at 0x2b56964429e8>"
      ]
     },
     "metadata": {},
     "output_type": "display_data"
    },
    {
     "name": "stdout",
     "output_type": "stream",
     "text": [
      "(349, 285, 3)\n",
      "104\n",
      "Parvularugoglobigerina\n",
      "(331, 331, 3)\n"
     ]
    },
    {
     "data": {
      "text/plain": [
       "<matplotlib.figure.Figure at 0x2b56963e12e8>"
      ]
     },
     "metadata": {},
     "output_type": "display_data"
    },
    {
     "name": "stdout",
     "output_type": "stream",
     "text": [
      "(246, 220, 3)\n",
      "105\n",
      "Turborotalia\n",
      "(331, 331, 3)\n"
     ]
    },
    {
     "data": {
      "text/plain": [
       "<matplotlib.figure.Figure at 0x2b56962f3128>"
      ]
     },
     "metadata": {},
     "output_type": "display_data"
    },
    {
     "name": "stdout",
     "output_type": "stream",
     "text": [
      "(359, 306, 3)\n",
      "106\n",
      "Helvetoglobotruncana\n",
      "(331, 331, 3)\n"
     ]
    },
    {
     "data": {
      "text/plain": [
       "<matplotlib.figure.Figure at 0x2b56962b70f0>"
      ]
     },
     "metadata": {},
     "output_type": "display_data"
    },
    {
     "name": "stdout",
     "output_type": "stream",
     "text": [
      "(92, 124, 3)\n",
      "107\n",
      "Conoglobigerina\n",
      "(331, 331, 3)\n"
     ]
    },
    {
     "data": {
      "text/plain": [
       "<matplotlib.figure.Figure at 0x2b56962b51d0>"
      ]
     },
     "metadata": {},
     "output_type": "display_data"
    },
    {
     "name": "stdout",
     "output_type": "stream",
     "text": [
      "(404, 435, 3)\n",
      "108\n",
      "Praeorbulina\n",
      "(331, 331, 3)\n"
     ]
    },
    {
     "data": {
      "text/plain": [
       "<matplotlib.figure.Figure at 0x2b56962a6da0>"
      ]
     },
     "metadata": {},
     "output_type": "display_data"
    },
    {
     "name": "stdout",
     "output_type": "stream",
     "text": [
      "(316, 245, 3)\n",
      "109\n",
      "Radotruncana\n",
      "(331, 331, 3)\n"
     ]
    },
    {
     "data": {
      "text/plain": [
       "<matplotlib.figure.Figure at 0x2b56964a4208>"
      ]
     },
     "metadata": {},
     "output_type": "display_data"
    },
    {
     "name": "stdout",
     "output_type": "stream",
     "text": [
      "(264, 278, 3)\n",
      "110\n",
      "Orbulinoides\n",
      "(331, 331, 3)\n"
     ]
    },
    {
     "data": {
      "text/plain": [
       "<matplotlib.figure.Figure at 0x2b5696331eb8>"
      ]
     },
     "metadata": {},
     "output_type": "display_data"
    },
    {
     "name": "stdout",
     "output_type": "stream",
     "text": [
      "(245, 218, 3)\n",
      "111\n",
      "Microhedbergella\n",
      "(331, 331, 3)\n"
     ]
    },
    {
     "data": {
      "text/plain": [
       "<matplotlib.figure.Figure at 0x2b56963605f8>"
      ]
     },
     "metadata": {},
     "output_type": "display_data"
    },
    {
     "name": "stdout",
     "output_type": "stream",
     "text": [
      "(255, 216, 3)\n",
      "112\n",
      "Tenuitella\n",
      "(331, 331, 3)\n"
     ]
    },
    {
     "data": {
      "text/plain": [
       "<matplotlib.figure.Figure at 0x2b56963606a0>"
      ]
     },
     "metadata": {},
     "output_type": "display_data"
    },
    {
     "name": "stdout",
     "output_type": "stream",
     "text": [
      "(267, 232, 3)\n",
      "113\n",
      "Acarinina\n",
      "(331, 331, 3)\n"
     ]
    },
    {
     "data": {
      "text/plain": [
       "<matplotlib.figure.Figure at 0x2b5692cd9f98>"
      ]
     },
     "metadata": {},
     "output_type": "display_data"
    },
    {
     "name": "stdout",
     "output_type": "stream",
     "text": [
      "(298, 254, 3)\n",
      "114\n",
      "Whiteinella\n",
      "(331, 331, 3)\n"
     ]
    },
    {
     "data": {
      "text/plain": [
       "<matplotlib.figure.Figure at 0x2b5695ce9ef0>"
      ]
     },
     "metadata": {},
     "output_type": "display_data"
    },
    {
     "name": "stdout",
     "output_type": "stream",
     "text": [
      "(406, 380, 3)\n",
      "115\n",
      "Globorotalia\n",
      "(331, 331, 3)\n"
     ]
    },
    {
     "data": {
      "text/plain": [
       "<matplotlib.figure.Figure at 0x2b56963f5908>"
      ]
     },
     "metadata": {},
     "output_type": "display_data"
    },
    {
     "name": "stdout",
     "output_type": "stream",
     "text": [
      "(281, 264, 3)\n",
      "116\n",
      "Sigalia\n",
      "(331, 331, 3)\n"
     ]
    },
    {
     "data": {
      "text/plain": [
       "<matplotlib.figure.Figure at 0x2b5695d65470>"
      ]
     },
     "metadata": {},
     "output_type": "display_data"
    },
    {
     "name": "stdout",
     "output_type": "stream",
     "text": [
      "(402, 345, 3)\n",
      "117\n",
      "Sphaeroidinellopsis\n",
      "(331, 331, 3)\n"
     ]
    },
    {
     "data": {
      "text/plain": [
       "<matplotlib.figure.Figure at 0x2b5695d04da0>"
      ]
     },
     "metadata": {},
     "output_type": "display_data"
    },
    {
     "name": "stdout",
     "output_type": "stream",
     "text": [
      "(350, 300, 3)\n",
      "118\n",
      "Praemurica\n",
      "(331, 331, 3)\n"
     ]
    },
    {
     "data": {
      "text/plain": [
       "<matplotlib.figure.Figure at 0x2b56963960f0>"
      ]
     },
     "metadata": {},
     "output_type": "display_data"
    },
    {
     "name": "stdout",
     "output_type": "stream",
     "text": [
      "(945, 713, 3)\n",
      "119\n",
      "Globigerinelloides\n",
      "(331, 331, 3)\n"
     ]
    },
    {
     "data": {
      "text/plain": [
       "<matplotlib.figure.Figure at 0x2b5696471a20>"
      ]
     },
     "metadata": {},
     "output_type": "display_data"
    },
    {
     "name": "stdout",
     "output_type": "stream",
     "text": [
      "(254, 230, 3)\n",
      "120\n",
      "Contusotruncana\n",
      "(331, 331, 3)\n"
     ]
    },
    {
     "data": {
      "text/plain": [
       "<matplotlib.figure.Figure at 0x2b56962c9668>"
      ]
     },
     "metadata": {},
     "output_type": "display_data"
    },
    {
     "name": "stdout",
     "output_type": "stream",
     "text": [
      "(120, 120, 3)\n",
      "121\n",
      "Dentoglobigerina\n",
      "(331, 331, 3)\n"
     ]
    },
    {
     "data": {
      "text/plain": [
       "<matplotlib.figure.Figure at 0x2b569627e320>"
      ]
     },
     "metadata": {},
     "output_type": "display_data"
    },
    {
     "name": "stdout",
     "output_type": "stream",
     "text": [
      "(233, 188, 3)\n",
      "122\n",
      "Microhedbergella\n",
      "(331, 331, 3)\n"
     ]
    },
    {
     "data": {
      "text/plain": [
       "<matplotlib.figure.Figure at 0x2b56963130f0>"
      ]
     },
     "metadata": {},
     "output_type": "display_data"
    },
    {
     "name": "stdout",
     "output_type": "stream",
     "text": [
      "(438, 402, 3)\n",
      "123\n",
      "Globigerinoides\n",
      "(331, 331, 3)\n"
     ]
    },
    {
     "data": {
      "text/plain": [
       "<matplotlib.figure.Figure at 0x2b5696456080>"
      ]
     },
     "metadata": {},
     "output_type": "display_data"
    },
    {
     "name": "stdout",
     "output_type": "stream",
     "text": [
      "(134, 126, 3)\n",
      "124\n",
      "Globotruncanella\n",
      "(331, 331, 3)\n"
     ]
    },
    {
     "data": {
      "text/plain": [
       "<matplotlib.figure.Figure at 0x2b56963e5e48>"
      ]
     },
     "metadata": {},
     "output_type": "display_data"
    },
    {
     "name": "stdout",
     "output_type": "stream",
     "text": [
      "(359, 309, 3)\n",
      "125\n",
      "Gansserina\n",
      "(331, 331, 3)\n"
     ]
    },
    {
     "data": {
      "text/plain": [
       "<matplotlib.figure.Figure at 0x2b5695d84048>"
      ]
     },
     "metadata": {},
     "output_type": "display_data"
    },
    {
     "name": "stdout",
     "output_type": "stream",
     "text": [
      "(356, 306, 3)\n",
      "126\n",
      "Sphaeroidinellopsis\n",
      "(331, 331, 3)\n"
     ]
    },
    {
     "data": {
      "text/plain": [
       "<matplotlib.figure.Figure at 0x2b5695f1b4e0>"
      ]
     },
     "metadata": {},
     "output_type": "display_data"
    },
    {
     "name": "stdout",
     "output_type": "stream",
     "text": [
      "(260, 222, 3)\n",
      "127\n",
      "Globanomalina\n",
      "(331, 331, 3)\n"
     ]
    },
    {
     "data": {
      "text/plain": [
       "<matplotlib.figure.Figure at 0x2b5695fc8438>"
      ]
     },
     "metadata": {},
     "output_type": "display_data"
    },
    {
     "name": "stdout",
     "output_type": "stream",
     "text": [
      "(417, 349, 3)\n",
      "128\n",
      "Globigerinoides\n",
      "(331, 331, 3)\n"
     ]
    },
    {
     "data": {
      "text/plain": [
       "<matplotlib.figure.Figure at 0x2b5695e27e48>"
      ]
     },
     "metadata": {},
     "output_type": "display_data"
    },
    {
     "name": "stdout",
     "output_type": "stream",
     "text": [
      "(335, 273, 3)\n",
      "129\n",
      "Acarinina\n",
      "(331, 331, 3)\n"
     ]
    },
    {
     "data": {
      "text/plain": [
       "<matplotlib.figure.Figure at 0x2b5695e51198>"
      ]
     },
     "metadata": {},
     "output_type": "display_data"
    },
    {
     "name": "stdout",
     "output_type": "stream",
     "text": [
      "(296, 237, 3)\n",
      "130\n",
      "Planulina\n",
      "(331, 331, 3)\n"
     ]
    },
    {
     "data": {
      "text/plain": [
       "<matplotlib.figure.Figure at 0x2b5696212198>"
      ]
     },
     "metadata": {},
     "output_type": "display_data"
    },
    {
     "name": "stdout",
     "output_type": "stream",
     "text": [
      "(423, 346, 3)\n",
      "131\n",
      "Plummerita\n",
      "(331, 331, 3)\n"
     ]
    },
    {
     "data": {
      "text/plain": [
       "<matplotlib.figure.Figure at 0x2b5695fa13c8>"
      ]
     },
     "metadata": {},
     "output_type": "display_data"
    },
    {
     "name": "stdout",
     "output_type": "stream",
     "text": [
      "(422, 329, 3)\n",
      "132\n",
      "Globorotalia\n",
      "(331, 331, 3)\n"
     ]
    },
    {
     "data": {
      "text/plain": [
       "<matplotlib.figure.Figure at 0x2b5695e77470>"
      ]
     },
     "metadata": {},
     "output_type": "display_data"
    },
    {
     "name": "stdout",
     "output_type": "stream",
     "text": [
      "(380, 343, 3)\n",
      "133\n",
      "Marginotruncana\n",
      "(331, 331, 3)\n"
     ]
    },
    {
     "data": {
      "text/plain": [
       "<matplotlib.figure.Figure at 0x2b56960c7b38>"
      ]
     },
     "metadata": {},
     "output_type": "display_data"
    },
    {
     "name": "stdout",
     "output_type": "stream",
     "text": [
      "(409, 349, 3)\n",
      "134\n",
      "Pulleniatina\n",
      "(331, 331, 3)\n"
     ]
    },
    {
     "data": {
      "text/plain": [
       "<matplotlib.figure.Figure at 0x2b569616bc88>"
      ]
     },
     "metadata": {},
     "output_type": "display_data"
    },
    {
     "name": "stdout",
     "output_type": "stream",
     "text": [
      "(439, 392, 3)\n",
      "135\n",
      "Globorotalita\n",
      "(331, 331, 3)\n"
     ]
    },
    {
     "data": {
      "text/plain": [
       "<matplotlib.figure.Figure at 0x2b569616bc18>"
      ]
     },
     "metadata": {},
     "output_type": "display_data"
    },
    {
     "name": "stdout",
     "output_type": "stream",
     "text": [
      "(405, 364, 3)\n",
      "136\n",
      "Globorotalia\n",
      "(331, 331, 3)\n"
     ]
    },
    {
     "data": {
      "text/plain": [
       "<matplotlib.figure.Figure at 0x2b5695ee4400>"
      ]
     },
     "metadata": {},
     "output_type": "display_data"
    },
    {
     "name": "stdout",
     "output_type": "stream",
     "text": [
      "(344, 303, 3)\n",
      "137\n",
      "Globigerinoides\n",
      "(331, 331, 3)\n"
     ]
    },
    {
     "data": {
      "text/plain": [
       "<matplotlib.figure.Figure at 0x2b5695f49f28>"
      ]
     },
     "metadata": {},
     "output_type": "display_data"
    },
    {
     "name": "stdout",
     "output_type": "stream",
     "text": [
      "(309, 278, 3)\n",
      "138\n",
      "Globigerina\n",
      "(331, 331, 3)\n"
     ]
    },
    {
     "data": {
      "text/plain": [
       "<matplotlib.figure.Figure at 0x2b56960732b0>"
      ]
     },
     "metadata": {},
     "output_type": "display_data"
    },
    {
     "name": "stdout",
     "output_type": "stream",
     "text": [
      "(317, 252, 3)\n",
      "139\n",
      "Abathomphalus\n",
      "(331, 331, 3)\n"
     ]
    },
    {
     "data": {
      "text/plain": [
       "<matplotlib.figure.Figure at 0x2b5696073358>"
      ]
     },
     "metadata": {},
     "output_type": "display_data"
    },
    {
     "name": "stdout",
     "output_type": "stream",
     "text": [
      "(429, 311, 3)\n",
      "140\n",
      "Fohsella\n",
      "(331, 331, 3)\n"
     ]
    },
    {
     "data": {
      "text/plain": [
       "<matplotlib.figure.Figure at 0x2b5696049e48>"
      ]
     },
     "metadata": {},
     "output_type": "display_data"
    },
    {
     "name": "stdout",
     "output_type": "stream",
     "text": [
      "(137, 106, 3)\n",
      "141\n",
      "Globigerinoides\n",
      "(331, 331, 3)\n"
     ]
    },
    {
     "data": {
      "text/plain": [
       "<matplotlib.figure.Figure at 0x2b56960ef198>"
      ]
     },
     "metadata": {},
     "output_type": "display_data"
    },
    {
     "name": "stdout",
     "output_type": "stream",
     "text": [
      "(293, 265, 3)\n",
      "142\n",
      "Acarinina\n",
      "(331, 331, 3)\n"
     ]
    },
    {
     "data": {
      "text/plain": [
       "<matplotlib.figure.Figure at 0x2b569600b8d0>"
      ]
     },
     "metadata": {},
     "output_type": "display_data"
    },
    {
     "name": "stdout",
     "output_type": "stream",
     "text": [
      "(352, 298, 3)\n",
      "143\n",
      "Rotalipora\n",
      "(331, 331, 3)\n"
     ]
    },
    {
     "data": {
      "text/plain": [
       "<matplotlib.figure.Figure at 0x2b5696247be0>"
      ]
     },
     "metadata": {},
     "output_type": "display_data"
    },
    {
     "name": "stdout",
     "output_type": "stream",
     "text": [
      "(377, 319, 3)\n",
      "144\n",
      "Catapsydrax\n",
      "(331, 331, 3)\n"
     ]
    },
    {
     "data": {
      "text/plain": [
       "<matplotlib.figure.Figure at 0x2b5696247908>"
      ]
     },
     "metadata": {},
     "output_type": "display_data"
    },
    {
     "name": "stdout",
     "output_type": "stream",
     "text": [
      "(272, 267, 3)\n",
      "145\n",
      "Catapsydrax\n",
      "(331, 331, 3)\n"
     ]
    },
    {
     "data": {
      "text/plain": [
       "<matplotlib.figure.Figure at 0x2b5695d28048>"
      ]
     },
     "metadata": {},
     "output_type": "display_data"
    },
    {
     "name": "stdout",
     "output_type": "stream",
     "text": [
      "(314, 294, 3)\n",
      "146\n",
      "Trilobatus\n",
      "(331, 331, 3)\n"
     ]
    },
    {
     "data": {
      "text/plain": [
       "<matplotlib.figure.Figure at 0x2b569600b780>"
      ]
     },
     "metadata": {},
     "output_type": "display_data"
    },
    {
     "name": "stdout",
     "output_type": "stream",
     "text": [
      "(417, 348, 3)\n",
      "147\n",
      "Fohsella\n",
      "(331, 331, 3)\n"
     ]
    },
    {
     "data": {
      "text/plain": [
       "<matplotlib.figure.Figure at 0x2b5695d562e8>"
      ]
     },
     "metadata": {},
     "output_type": "display_data"
    },
    {
     "name": "stdout",
     "output_type": "stream",
     "text": [
      "(717, 605, 3)\n",
      "148\n",
      "Paragloborotalia\n",
      "(331, 331, 3)\n"
     ]
    },
    {
     "data": {
      "text/plain": [
       "<matplotlib.figure.Figure at 0x2b5695d56470>"
      ]
     },
     "metadata": {},
     "output_type": "display_data"
    },
    {
     "name": "stdout",
     "output_type": "stream",
     "text": [
      "(520, 384, 3)\n",
      "149\n",
      "Globuligerina\n",
      "(331, 331, 3)\n"
     ]
    },
    {
     "data": {
      "text/plain": [
       "<matplotlib.figure.Figure at 0x2b5695d01278>"
      ]
     },
     "metadata": {},
     "output_type": "display_data"
    },
    {
     "name": "stdout",
     "output_type": "stream",
     "text": [
      "(318, 253, 3)\n",
      "150\n",
      "Acarinina\n",
      "(331, 331, 3)\n"
     ]
    },
    {
     "data": {
      "text/plain": [
       "<matplotlib.figure.Figure at 0x2b5695ff6a58>"
      ]
     },
     "metadata": {},
     "output_type": "display_data"
    },
    {
     "name": "stdout",
     "output_type": "stream",
     "text": [
      "(408, 343, 3)\n",
      "151\n",
      "Fohsella\n",
      "(331, 331, 3)\n"
     ]
    },
    {
     "data": {
      "text/plain": [
       "<matplotlib.figure.Figure at 0x2b56960fc278>"
      ]
     },
     "metadata": {},
     "output_type": "display_data"
    },
    {
     "name": "stdout",
     "output_type": "stream",
     "text": [
      "(271, 232, 3)\n",
      "152\n",
      "Globigerina\n",
      "(331, 331, 3)\n"
     ]
    },
    {
     "data": {
      "text/plain": [
       "<matplotlib.figure.Figure at 0x2b5695f4a198>"
      ]
     },
     "metadata": {},
     "output_type": "display_data"
    },
    {
     "name": "stdout",
     "output_type": "stream",
     "text": [
      "(293, 264, 3)\n",
      "153\n",
      "Acarinina\n",
      "(331, 331, 3)\n"
     ]
    },
    {
     "data": {
      "text/plain": [
       "<matplotlib.figure.Figure at 0x2b56960e76d8>"
      ]
     },
     "metadata": {},
     "output_type": "display_data"
    },
    {
     "name": "stdout",
     "output_type": "stream",
     "text": [
      "(308, 271, 3)\n",
      "154\n",
      "Morozovella\n",
      "(331, 331, 3)\n"
     ]
    },
    {
     "data": {
      "text/plain": [
       "<matplotlib.figure.Figure at 0x2b56960e75c0>"
      ]
     },
     "metadata": {},
     "output_type": "display_data"
    },
    {
     "name": "stdout",
     "output_type": "stream",
     "text": [
      "(153, 151, 3)\n",
      "155\n",
      "Globorotalia\n",
      "(331, 331, 3)\n"
     ]
    },
    {
     "data": {
      "text/plain": [
       "<matplotlib.figure.Figure at 0x2b56961609b0>"
      ]
     },
     "metadata": {},
     "output_type": "display_data"
    },
    {
     "name": "stdout",
     "output_type": "stream",
     "text": [
      "(380, 249, 3)\n",
      "156\n",
      "Globorotalia\n",
      "(331, 331, 3)\n"
     ]
    },
    {
     "data": {
      "text/plain": [
       "<matplotlib.figure.Figure at 0x2b5695ee14e0>"
      ]
     },
     "metadata": {},
     "output_type": "display_data"
    },
    {
     "name": "stdout",
     "output_type": "stream",
     "text": [
      "(359, 314, 3)\n",
      "157\n",
      "Parathalmanninella\n",
      "(331, 331, 3)\n"
     ]
    },
    {
     "data": {
      "text/plain": [
       "<matplotlib.figure.Figure at 0x2b5695ee10b8>"
      ]
     },
     "metadata": {},
     "output_type": "display_data"
    },
    {
     "name": "stdout",
     "output_type": "stream",
     "text": [
      "(343, 296, 3)\n",
      "158\n",
      "Globuligerina\n",
      "(331, 331, 3)\n"
     ]
    },
    {
     "data": {
      "text/plain": [
       "<matplotlib.figure.Figure at 0x2b56961ab518>"
      ]
     },
     "metadata": {},
     "output_type": "display_data"
    },
    {
     "name": "stdout",
     "output_type": "stream",
     "text": [
      "(368, 299, 3)\n",
      "159\n",
      "Globigerina\n",
      "(331, 331, 3)\n"
     ]
    },
    {
     "data": {
      "text/plain": [
       "<matplotlib.figure.Figure at 0x2b569604e2e8>"
      ]
     },
     "metadata": {},
     "output_type": "display_data"
    },
    {
     "name": "stdout",
     "output_type": "stream",
     "text": [
      "(200, 190, 3)\n",
      "160\n",
      "Acarinina\n",
      "(331, 331, 3)\n"
     ]
    },
    {
     "data": {
      "text/plain": [
       "<matplotlib.figure.Figure at 0x2b5695d904e0>"
      ]
     },
     "metadata": {},
     "output_type": "display_data"
    },
    {
     "name": "stdout",
     "output_type": "stream",
     "text": [
      "(330, 326, 3)\n",
      "161\n",
      "Hantkenina\n",
      "(331, 331, 3)\n"
     ]
    },
    {
     "data": {
      "text/plain": [
       "<matplotlib.figure.Figure at 0x2b5695d90198>"
      ]
     },
     "metadata": {},
     "output_type": "display_data"
    },
    {
     "name": "stdout",
     "output_type": "stream",
     "text": [
      "(328, 284, 3)\n",
      "162\n",
      "Morozovella\n",
      "(331, 331, 3)\n"
     ]
    },
    {
     "data": {
      "text/plain": [
       "<matplotlib.figure.Figure at 0x2b5695fab390>"
      ]
     },
     "metadata": {},
     "output_type": "display_data"
    },
    {
     "name": "stdout",
     "output_type": "stream",
     "text": [
      "(160, 148, 3)\n",
      "163\n",
      "Neogloboquadrina\n",
      "(331, 331, 3)\n"
     ]
    },
    {
     "data": {
      "text/plain": [
       "<matplotlib.figure.Figure at 0x2b5695e73438>"
      ]
     },
     "metadata": {},
     "output_type": "display_data"
    },
    {
     "name": "stdout",
     "output_type": "stream",
     "text": [
      "(324, 275, 3)\n",
      "164\n",
      "Globigerinelloides\n",
      "(331, 331, 3)\n"
     ]
    },
    {
     "data": {
      "text/plain": [
       "<matplotlib.figure.Figure at 0x2b5695e323c8>"
      ]
     },
     "metadata": {},
     "output_type": "display_data"
    },
    {
     "name": "stdout",
     "output_type": "stream",
     "text": [
      "(102, 121, 3)\n",
      "165\n",
      "Turborotalia\n",
      "(331, 331, 3)\n"
     ]
    },
    {
     "data": {
      "text/plain": [
       "<matplotlib.figure.Figure at 0x2b5695e0a2e8>"
      ]
     },
     "metadata": {},
     "output_type": "display_data"
    },
    {
     "name": "stdout",
     "output_type": "stream",
     "text": [
      "(440, 400, 3)\n",
      "166\n",
      "Globoquadrina\n",
      "(331, 331, 3)\n"
     ]
    },
    {
     "data": {
      "text/plain": [
       "<matplotlib.figure.Figure at 0x2b56962110f0>"
      ]
     },
     "metadata": {},
     "output_type": "display_data"
    },
    {
     "name": "stdout",
     "output_type": "stream",
     "text": [
      "(422, 403, 3)\n",
      "167\n",
      "Pulleniatina\n",
      "(331, 331, 3)\n"
     ]
    },
    {
     "data": {
      "text/plain": [
       "<matplotlib.figure.Figure at 0x2b56964652e8>"
      ]
     },
     "metadata": {},
     "output_type": "display_data"
    },
    {
     "name": "stdout",
     "output_type": "stream",
     "text": [
      "(362, 346, 3)\n",
      "168\n",
      "Acarinina\n",
      "(331, 331, 3)\n"
     ]
    },
    {
     "data": {
      "text/plain": [
       "<matplotlib.figure.Figure at 0x2b569633c0f0>"
      ]
     },
     "metadata": {},
     "output_type": "display_data"
    },
    {
     "name": "stdout",
     "output_type": "stream",
     "text": [
      "(377, 286, 3)\n",
      "169\n",
      "Pseudoguembelina\n",
      "(331, 331, 3)\n"
     ]
    },
    {
     "data": {
      "text/plain": [
       "<matplotlib.figure.Figure at 0x2b5696297358>"
      ]
     },
     "metadata": {},
     "output_type": "display_data"
    },
    {
     "name": "stdout",
     "output_type": "stream",
     "text": [
      "(375, 311, 3)\n",
      "170\n",
      "Morozovella\n",
      "(331, 331, 3)\n"
     ]
    },
    {
     "data": {
      "text/plain": [
       "<matplotlib.figure.Figure at 0x2b5696315828>"
      ]
     },
     "metadata": {},
     "output_type": "display_data"
    },
    {
     "name": "stdout",
     "output_type": "stream",
     "text": [
      "(267, 227, 3)\n",
      "171\n",
      "Acarinina\n",
      "(331, 331, 3)\n"
     ]
    },
    {
     "data": {
      "text/plain": [
       "<matplotlib.figure.Figure at 0x2b5695fee978>"
      ]
     },
     "metadata": {},
     "output_type": "display_data"
    },
    {
     "name": "stdout",
     "output_type": "stream",
     "text": [
      "(432, 404, 3)\n",
      "172\n",
      "Globigerinoides\n",
      "(331, 331, 3)\n"
     ]
    },
    {
     "data": {
      "text/plain": [
       "<matplotlib.figure.Figure at 0x2b56962da3c8>"
      ]
     },
     "metadata": {},
     "output_type": "display_data"
    },
    {
     "name": "stdout",
     "output_type": "stream",
     "text": [
      "(304, 251, 3)\n",
      "173\n",
      "Turborotalia\n",
      "(331, 331, 3)\n"
     ]
    },
    {
     "data": {
      "text/plain": [
       "<matplotlib.figure.Figure at 0x2b56963e21d0>"
      ]
     },
     "metadata": {},
     "output_type": "display_data"
    },
    {
     "name": "stdout",
     "output_type": "stream",
     "text": [
      "(277, 249, 3)\n",
      "174\n",
      "Globanomalina\n",
      "(331, 331, 3)\n"
     ]
    },
    {
     "data": {
      "text/plain": [
       "<matplotlib.figure.Figure at 0x2b5696497860>"
      ]
     },
     "metadata": {},
     "output_type": "display_data"
    },
    {
     "name": "stdout",
     "output_type": "stream",
     "text": [
      "(334, 302, 3)\n",
      "175\n",
      "Astrorotalia\n",
      "(331, 331, 3)\n"
     ]
    },
    {
     "data": {
      "text/plain": [
       "<matplotlib.figure.Figure at 0x2b56963a23c8>"
      ]
     },
     "metadata": {},
     "output_type": "display_data"
    },
    {
     "name": "stdout",
     "output_type": "stream",
     "text": [
      "(396, 361, 3)\n",
      "176\n",
      "Globorotalia\n",
      "(331, 331, 3)\n"
     ]
    },
    {
     "data": {
      "text/plain": [
       "<matplotlib.figure.Figure at 0x2b56963a27b8>"
      ]
     },
     "metadata": {},
     "output_type": "display_data"
    },
    {
     "name": "stdout",
     "output_type": "stream",
     "text": [
      "(434, 356, 3)\n",
      "177\n",
      "Globorotalia\n",
      "(331, 331, 3)\n"
     ]
    },
    {
     "data": {
      "text/plain": [
       "<matplotlib.figure.Figure at 0x2b5695efb978>"
      ]
     },
     "metadata": {},
     "output_type": "display_data"
    },
    {
     "name": "stdout",
     "output_type": "stream",
     "text": [
      "(659, 600, 3)\n",
      "178\n",
      "Globigerina\n",
      "(331, 331, 3)\n"
     ]
    },
    {
     "data": {
      "text/plain": [
       "<matplotlib.figure.Figure at 0x2b5696497550>"
      ]
     },
     "metadata": {},
     "output_type": "display_data"
    },
    {
     "name": "stdout",
     "output_type": "stream",
     "text": [
      "(444, 345, 3)\n",
      "179\n",
      "Globigerinoides\n",
      "(331, 331, 3)\n"
     ]
    },
    {
     "data": {
      "text/plain": [
       "<matplotlib.figure.Figure at 0x2b56963f6198>"
      ]
     },
     "metadata": {},
     "output_type": "display_data"
    },
    {
     "name": "stdout",
     "output_type": "stream",
     "text": [
      "(418, 364, 3)\n",
      "180\n",
      "Dicarinella\n",
      "(331, 331, 3)\n"
     ]
    },
    {
     "data": {
      "text/plain": [
       "<matplotlib.figure.Figure at 0x2b5695d42c50>"
      ]
     },
     "metadata": {},
     "output_type": "display_data"
    },
    {
     "name": "stdout",
     "output_type": "stream",
     "text": [
      "(338, 273, 3)\n",
      "181\n",
      "Morozovelloides\n",
      "(331, 331, 3)\n"
     ]
    },
    {
     "data": {
      "text/plain": [
       "<matplotlib.figure.Figure at 0x2b5695cf9518>"
      ]
     },
     "metadata": {},
     "output_type": "display_data"
    },
    {
     "name": "stdout",
     "output_type": "stream",
     "text": [
      "(292, 313, 3)\n",
      "182\n",
      "Leupoldina\n",
      "(331, 331, 3)\n"
     ]
    },
    {
     "data": {
      "text/plain": [
       "<matplotlib.figure.Figure at 0x2b56964872b0>"
      ]
     },
     "metadata": {},
     "output_type": "display_data"
    },
    {
     "name": "stdout",
     "output_type": "stream",
     "text": [
      "(430, 342, 3)\n",
      "183\n",
      "Whiteinella\n",
      "(331, 331, 3)\n"
     ]
    },
    {
     "data": {
      "text/plain": [
       "<matplotlib.figure.Figure at 0x2b56962e0978>"
      ]
     },
     "metadata": {},
     "output_type": "display_data"
    },
    {
     "name": "stdout",
     "output_type": "stream",
     "text": [
      "(393, 378, 3)\n",
      "184\n",
      "Globigerinoides\n",
      "(331, 331, 3)\n"
     ]
    },
    {
     "data": {
      "text/plain": [
       "<matplotlib.figure.Figure at 0x2b569629f550>"
      ]
     },
     "metadata": {},
     "output_type": "display_data"
    },
    {
     "name": "stdout",
     "output_type": "stream",
     "text": [
      "(383, 355, 3)\n",
      "185\n",
      "Archaeoglobigerina\n",
      "(331, 331, 3)\n"
     ]
    },
    {
     "data": {
      "text/plain": [
       "<matplotlib.figure.Figure at 0x2b56963b22b0>"
      ]
     },
     "metadata": {},
     "output_type": "display_data"
    },
    {
     "name": "stdout",
     "output_type": "stream",
     "text": [
      "(375, 392, 3)\n",
      "186\n",
      "Planoglobulina\n",
      "(331, 331, 3)\n"
     ]
    },
    {
     "data": {
      "text/plain": [
       "<matplotlib.figure.Figure at 0x2b56963b6160>"
      ]
     },
     "metadata": {},
     "output_type": "display_data"
    },
    {
     "name": "stdout",
     "output_type": "stream",
     "text": [
      "(150, 134, 3)\n",
      "187\n",
      "Globuligerina\n",
      "(331, 331, 3)\n"
     ]
    },
    {
     "data": {
      "text/plain": [
       "<matplotlib.figure.Figure at 0x2b569631d978>"
      ]
     },
     "metadata": {},
     "output_type": "display_data"
    },
    {
     "name": "stdout",
     "output_type": "stream",
     "text": [
      "(267, 142, 3)\n",
      "188\n",
      "Chiloguembelina\n",
      "(331, 331, 3)\n"
     ]
    },
    {
     "data": {
      "text/plain": [
       "<matplotlib.figure.Figure at 0x2b5696211358>"
      ]
     },
     "metadata": {},
     "output_type": "display_data"
    },
    {
     "name": "stdout",
     "output_type": "stream",
     "text": [
      "(387, 315, 3)\n",
      "189\n",
      "Globorotalia\n",
      "(331, 331, 3)\n"
     ]
    },
    {
     "data": {
      "text/plain": [
       "<matplotlib.figure.Figure at 0x2b5695fe5198>"
      ]
     },
     "metadata": {},
     "output_type": "display_data"
    },
    {
     "name": "stdout",
     "output_type": "stream",
     "text": [
      "(376, 379, 3)\n",
      "190\n",
      "Globigerinoides\n",
      "(331, 331, 3)\n"
     ]
    },
    {
     "data": {
      "text/plain": [
       "<matplotlib.figure.Figure at 0x2b5696349cf8>"
      ]
     },
     "metadata": {},
     "output_type": "display_data"
    },
    {
     "name": "stdout",
     "output_type": "stream",
     "text": [
      "(214, 173, 3)\n",
      "191\n",
      "Hedbergella\n",
      "(331, 331, 3)\n"
     ]
    },
    {
     "data": {
      "text/plain": [
       "<matplotlib.figure.Figure at 0x2b5696349c88>"
      ]
     },
     "metadata": {},
     "output_type": "display_data"
    },
    {
     "name": "stdout",
     "output_type": "stream",
     "text": [
      "(351, 277, 3)\n",
      "192\n",
      "Globanomalina\n",
      "(331, 331, 3)\n"
     ]
    },
    {
     "data": {
      "text/plain": [
       "<matplotlib.figure.Figure at 0x2b5695f1d5c0>"
      ]
     },
     "metadata": {},
     "output_type": "display_data"
    },
    {
     "name": "stdout",
     "output_type": "stream",
     "text": [
      "(458, 383, 3)\n",
      "193\n",
      "Globorotalia\n",
      "(331, 331, 3)\n"
     ]
    },
    {
     "data": {
      "text/plain": [
       "<matplotlib.figure.Figure at 0x2b5696080198>"
      ]
     },
     "metadata": {},
     "output_type": "display_data"
    },
    {
     "name": "stdout",
     "output_type": "stream",
     "text": [
      "(411, 314, 3)\n",
      "194\n",
      "Globigerinoidesella\n",
      "(331, 331, 3)\n"
     ]
    },
    {
     "data": {
      "text/plain": [
       "<matplotlib.figure.Figure at 0x2b56961350f0>"
      ]
     },
     "metadata": {},
     "output_type": "display_data"
    },
    {
     "name": "stdout",
     "output_type": "stream",
     "text": [
      "(120, 120, 3)\n",
      "195\n",
      "Sphaeroidinellopsis\n",
      "(331, 331, 3)\n"
     ]
    },
    {
     "data": {
      "text/plain": [
       "<matplotlib.figure.Figure at 0x2b5695f98128>"
      ]
     },
     "metadata": {},
     "output_type": "display_data"
    },
    {
     "name": "stdout",
     "output_type": "stream",
     "text": [
      "(304, 266, 3)\n",
      "196\n",
      "Dicarinella\n",
      "(331, 331, 3)\n"
     ]
    },
    {
     "data": {
      "text/plain": [
       "<matplotlib.figure.Figure at 0x2b5695de6358>"
      ]
     },
     "metadata": {},
     "output_type": "display_data"
    },
    {
     "name": "stdout",
     "output_type": "stream",
     "text": [
      "(349, 306, 3)\n",
      "197\n",
      "Thalmanninella\n",
      "(331, 331, 3)\n"
     ]
    },
    {
     "data": {
      "text/plain": [
       "<matplotlib.figure.Figure at 0x2b5695e77160>"
      ]
     },
     "metadata": {},
     "output_type": "display_data"
    },
    {
     "name": "stdout",
     "output_type": "stream",
     "text": [
      "(225, 195, 3)\n",
      "198\n",
      "Cassigerinella\n",
      "(331, 331, 3)\n"
     ]
    },
    {
     "data": {
      "text/plain": [
       "<matplotlib.figure.Figure at 0x2b5695e682b0>"
      ]
     },
     "metadata": {},
     "output_type": "display_data"
    },
    {
     "name": "stdout",
     "output_type": "stream",
     "text": [
      "(305, 272, 3)\n",
      "199\n",
      "Globigerinelloides\n",
      "(331, 331, 3)\n"
     ]
    },
    {
     "data": {
      "text/plain": [
       "<matplotlib.figure.Figure at 0x2b5695e290f0>"
      ]
     },
     "metadata": {},
     "output_type": "display_data"
    },
    {
     "name": "stdout",
     "output_type": "stream",
     "text": [
      "(344, 280, 3)\n",
      "200\n",
      "Cribrohantkenina\n",
      "(331, 331, 3)\n"
     ]
    },
    {
     "data": {
      "text/plain": [
       "<matplotlib.figure.Figure at 0x2b5696120390>"
      ]
     },
     "metadata": {},
     "output_type": "display_data"
    },
    {
     "name": "stdout",
     "output_type": "stream",
     "text": [
      "(571, 494, 3)\n",
      "201\n",
      "Globigerina\n",
      "(331, 331, 3)\n"
     ]
    },
    {
     "data": {
      "text/plain": [
       "<matplotlib.figure.Figure at 0x2b5696195160>"
      ]
     },
     "metadata": {},
     "output_type": "display_data"
    },
    {
     "name": "stdout",
     "output_type": "stream",
     "text": [
      "(295, 268, 3)\n",
      "202\n",
      "Morozovella\n",
      "(331, 331, 3)\n"
     ]
    },
    {
     "data": {
      "text/plain": [
       "<matplotlib.figure.Figure at 0x2b5695f42320>"
      ]
     },
     "metadata": {},
     "output_type": "display_data"
    },
    {
     "name": "stdout",
     "output_type": "stream",
     "text": [
      "(371, 359, 3)\n",
      "203\n",
      "Contusotruncana\n",
      "(331, 331, 3)\n"
     ]
    },
    {
     "data": {
      "text/plain": [
       "<matplotlib.figure.Figure at 0x2b5695eb5b00>"
      ]
     },
     "metadata": {},
     "output_type": "display_data"
    },
    {
     "name": "stdout",
     "output_type": "stream",
     "text": [
      "(341, 339, 3)\n",
      "204\n",
      "Globigeriantella\n",
      "(331, 331, 3)\n"
     ]
    },
    {
     "data": {
      "text/plain": [
       "<matplotlib.figure.Figure at 0x2b569643aa20>"
      ]
     },
     "metadata": {},
     "output_type": "display_data"
    },
    {
     "name": "stdout",
     "output_type": "stream",
     "text": [
      "(443, 340, 3)\n",
      "205\n",
      "Fohsella\n",
      "(331, 331, 3)\n"
     ]
    },
    {
     "data": {
      "text/plain": [
       "<matplotlib.figure.Figure at 0x2b5695fef2b0>"
      ]
     },
     "metadata": {},
     "output_type": "display_data"
    },
    {
     "name": "stdout",
     "output_type": "stream",
     "text": [
      "(347, 351, 3)\n",
      "206\n",
      "Globuligerina\n",
      "(331, 331, 3)\n"
     ]
    },
    {
     "data": {
      "text/plain": [
       "<matplotlib.figure.Figure at 0x2b5696054128>"
      ]
     },
     "metadata": {},
     "output_type": "display_data"
    },
    {
     "name": "stdout",
     "output_type": "stream",
     "text": [
      "(378, 302, 3)\n",
      "207\n",
      "Globanomalina\n",
      "(331, 331, 3)\n"
     ]
    },
    {
     "data": {
      "text/plain": [
       "<matplotlib.figure.Figure at 0x2b56961ec4a8>"
      ]
     },
     "metadata": {},
     "output_type": "display_data"
    },
    {
     "name": "stdout",
     "output_type": "stream",
     "text": [
      "(279, 251, 3)\n",
      "208\n",
      "Globoconella\n",
      "(331, 331, 3)\n"
     ]
    },
    {
     "data": {
      "text/plain": [
       "<matplotlib.figure.Figure at 0x2b56961bfac8>"
      ]
     },
     "metadata": {},
     "output_type": "display_data"
    },
    {
     "name": "stdout",
     "output_type": "stream",
     "text": [
      "(715, 625, 3)\n",
      "209\n",
      "Globorotalia\n",
      "(331, 331, 3)\n"
     ]
    },
    {
     "data": {
      "text/plain": [
       "<matplotlib.figure.Figure at 0x2b568c211278>"
      ]
     },
     "metadata": {},
     "output_type": "display_data"
    },
    {
     "name": "stdout",
     "output_type": "stream",
     "text": [
      "(348, 307, 3)\n",
      "210\n",
      "Morozovella\n",
      "(331, 331, 3)\n"
     ]
    },
    {
     "data": {
      "text/plain": [
       "<matplotlib.figure.Figure at 0x2b5695d525f8>"
      ]
     },
     "metadata": {},
     "output_type": "display_data"
    },
    {
     "name": "stdout",
     "output_type": "stream",
     "text": [
      "(269, 249, 3)\n",
      "211\n",
      "Globorotalia\n",
      "(331, 331, 3)\n"
     ]
    },
    {
     "data": {
      "text/plain": [
       "<matplotlib.figure.Figure at 0x2b5696257a90>"
      ]
     },
     "metadata": {},
     "output_type": "display_data"
    },
    {
     "name": "stdout",
     "output_type": "stream",
     "text": [
      "(302, 269, 3)\n",
      "212\n",
      "Morozovelloides\n",
      "(331, 331, 3)\n"
     ]
    },
    {
     "data": {
      "text/plain": [
       "<matplotlib.figure.Figure at 0x2b5695d5e320>"
      ]
     },
     "metadata": {},
     "output_type": "display_data"
    },
    {
     "name": "stdout",
     "output_type": "stream",
     "text": [
      "(370, 293, 3)\n",
      "213\n",
      "Subbotina\n",
      "(331, 331, 3)\n"
     ]
    },
    {
     "data": {
      "text/plain": [
       "<matplotlib.figure.Figure at 0x2b5695d12588>"
      ]
     },
     "metadata": {},
     "output_type": "display_data"
    },
    {
     "name": "stdout",
     "output_type": "stream",
     "text": [
      "(234, 199, 3)\n",
      "214\n",
      "Morozovella\n",
      "(331, 331, 3)\n"
     ]
    },
    {
     "data": {
      "text/plain": [
       "<matplotlib.figure.Figure at 0x2b569605c2b0>"
      ]
     },
     "metadata": {},
     "output_type": "display_data"
    },
    {
     "name": "stdout",
     "output_type": "stream",
     "text": [
      "(433, 327, 3)\n",
      "215\n",
      "Globorotalia\n",
      "(331, 331, 3)\n"
     ]
    },
    {
     "data": {
      "text/plain": [
       "<matplotlib.figure.Figure at 0x2b569645c630>"
      ]
     },
     "metadata": {},
     "output_type": "display_data"
    },
    {
     "name": "stdout",
     "output_type": "stream",
     "text": [
      "(270, 261, 3)\n",
      "216\n",
      "Globigerinatheka\n",
      "(331, 331, 3)\n"
     ]
    },
    {
     "data": {
      "text/plain": [
       "<matplotlib.figure.Figure at 0x2b5695ffe3c8>"
      ]
     },
     "metadata": {},
     "output_type": "display_data"
    },
    {
     "name": "stdout",
     "output_type": "stream",
     "text": [
      "(353, 328, 3)\n",
      "217\n",
      "Dentoglobigerina\n",
      "(331, 331, 3)\n"
     ]
    },
    {
     "data": {
      "text/plain": [
       "<matplotlib.figure.Figure at 0x2b5696028b00>"
      ]
     },
     "metadata": {},
     "output_type": "display_data"
    },
    {
     "name": "stdout",
     "output_type": "stream",
     "text": [
      "(287, 226, 3)\n",
      "218\n",
      "Pseudohastigerina\n",
      "(331, 331, 3)\n"
     ]
    },
    {
     "data": {
      "text/plain": [
       "<matplotlib.figure.Figure at 0x2b5695ee6588>"
      ]
     },
     "metadata": {},
     "output_type": "display_data"
    },
    {
     "name": "stdout",
     "output_type": "stream",
     "text": [
      "(372, 344, 3)\n",
      "219\n",
      "Sphaeroidinella\n",
      "(331, 331, 3)\n"
     ]
    },
    {
     "data": {
      "text/plain": [
       "<matplotlib.figure.Figure at 0x2b5695f77400>"
      ]
     },
     "metadata": {},
     "output_type": "display_data"
    },
    {
     "name": "stdout",
     "output_type": "stream",
     "text": [
      "(378, 368, 3)\n",
      "220\n",
      "Neogloboquadrina\n",
      "(331, 331, 3)\n"
     ]
    },
    {
     "data": {
      "text/plain": [
       "<matplotlib.figure.Figure at 0x2b56960dcd68>"
      ]
     },
     "metadata": {},
     "output_type": "display_data"
    },
    {
     "name": "stdout",
     "output_type": "stream",
     "text": [
      "(407, 333, 3)\n",
      "221\n",
      "Globorotalia\n",
      "(331, 331, 3)\n"
     ]
    },
    {
     "data": {
      "text/plain": [
       "<matplotlib.figure.Figure at 0x2b569609ab00>"
      ]
     },
     "metadata": {},
     "output_type": "display_data"
    },
    {
     "name": "stdout",
     "output_type": "stream",
     "text": [
      "(381, 298, 3)\n",
      "222\n",
      "Globigerinoides\n",
      "(331, 331, 3)\n"
     ]
    },
    {
     "data": {
      "text/plain": [
       "<matplotlib.figure.Figure at 0x2b5695e53470>"
      ]
     },
     "metadata": {},
     "output_type": "display_data"
    },
    {
     "name": "stdout",
     "output_type": "stream",
     "text": [
      "(349, 227, 3)\n",
      "223\n",
      "Hantkenina\n",
      "(331, 331, 3)\n"
     ]
    },
    {
     "data": {
      "text/plain": [
       "<matplotlib.figure.Figure at 0x2b5695f52da0>"
      ]
     },
     "metadata": {},
     "output_type": "display_data"
    },
    {
     "name": "stdout",
     "output_type": "stream",
     "text": [
      "(273, 174, 3)\n",
      "224\n",
      "Pseudoguembelina\n",
      "(331, 331, 3)\n"
     ]
    },
    {
     "data": {
      "text/plain": [
       "<matplotlib.figure.Figure at 0x2b5696119438>"
      ]
     },
     "metadata": {},
     "output_type": "display_data"
    },
    {
     "name": "stdout",
     "output_type": "stream",
     "text": [
      "(383, 393, 3)\n",
      "225\n",
      "Orbulina\n",
      "(331, 331, 3)\n"
     ]
    },
    {
     "data": {
      "text/plain": [
       "<matplotlib.figure.Figure at 0x2b5695e8b198>"
      ]
     },
     "metadata": {},
     "output_type": "display_data"
    },
    {
     "name": "stdout",
     "output_type": "stream",
     "text": [
      "(280, 237, 3)\n",
      "226\n",
      "Morozovella\n",
      "(331, 331, 3)\n"
     ]
    },
    {
     "data": {
      "text/plain": [
       "<matplotlib.figure.Figure at 0x2b5695f129b0>"
      ]
     },
     "metadata": {},
     "output_type": "display_data"
    },
    {
     "name": "stdout",
     "output_type": "stream",
     "text": [
      "(315, 256, 3)\n",
      "227\n",
      "Morozovella\n",
      "(331, 331, 3)\n"
     ]
    },
    {
     "data": {
      "text/plain": [
       "<matplotlib.figure.Figure at 0x2b5695d7b048>"
      ]
     },
     "metadata": {},
     "output_type": "display_data"
    },
    {
     "name": "stdout",
     "output_type": "stream",
     "text": [
      "(477, 329, 3)\n",
      "228\n",
      "Globuligerina\n",
      "(331, 331, 3)\n"
     ]
    },
    {
     "data": {
      "text/plain": [
       "<matplotlib.figure.Figure at 0x2b5695dd1d68>"
      ]
     },
     "metadata": {},
     "output_type": "display_data"
    },
    {
     "name": "stdout",
     "output_type": "stream",
     "text": [
      "(298, 281, 3)\n",
      "229\n",
      "Acarinina\n",
      "(331, 331, 3)\n"
     ]
    },
    {
     "data": {
      "text/plain": [
       "<matplotlib.figure.Figure at 0x2b569612f240>"
      ]
     },
     "metadata": {},
     "output_type": "display_data"
    },
    {
     "name": "stdout",
     "output_type": "stream",
     "text": [
      "(314, 293, 3)\n",
      "230\n",
      "Paraticinella\n",
      "(331, 331, 3)\n"
     ]
    },
    {
     "data": {
      "text/plain": [
       "<matplotlib.figure.Figure at 0x2b56961f8940>"
      ]
     },
     "metadata": {},
     "output_type": "display_data"
    },
    {
     "name": "stdout",
     "output_type": "stream",
     "text": [
      "(316, 331, 3)\n",
      "231\n",
      "Conoglobigerina\n",
      "(331, 331, 3)\n"
     ]
    },
    {
     "data": {
      "text/plain": [
       "<matplotlib.figure.Figure at 0x2b569631e3c8>"
      ]
     },
     "metadata": {},
     "output_type": "display_data"
    },
    {
     "name": "stdout",
     "output_type": "stream",
     "text": [
      "(311, 170, 3)\n",
      "232\n",
      "Pseudotextularia\n",
      "(331, 331, 3)\n"
     ]
    },
    {
     "data": {
      "text/plain": [
       "<matplotlib.figure.Figure at 0x2b569634ae10>"
      ]
     },
     "metadata": {},
     "output_type": "display_data"
    },
    {
     "name": "stdout",
     "output_type": "stream",
     "text": [
      "(366, 285, 3)\n",
      "233\n",
      "Pseudohastigerina\n",
      "(331, 331, 3)\n"
     ]
    },
    {
     "data": {
      "text/plain": [
       "<matplotlib.figure.Figure at 0x2b5695fdf198>"
      ]
     },
     "metadata": {},
     "output_type": "display_data"
    },
    {
     "name": "stdout",
     "output_type": "stream",
     "text": [
      "(414, 270, 3)\n",
      "234\n",
      "Globorotalia\n",
      "(331, 331, 3)\n"
     ]
    },
    {
     "data": {
      "text/plain": [
       "<matplotlib.figure.Figure at 0x2b5695e0a588>"
      ]
     },
     "metadata": {},
     "output_type": "display_data"
    },
    {
     "name": "stdout",
     "output_type": "stream",
     "text": [
      "(366, 354, 3)\n",
      "235\n",
      "Pulleniatina\n",
      "(331, 331, 3)\n"
     ]
    },
    {
     "data": {
      "text/plain": [
       "<matplotlib.figure.Figure at 0x2b56962b2a58>"
      ]
     },
     "metadata": {},
     "output_type": "display_data"
    }
   ],
   "source": [
    "import os\n",
    "import sys\n",
    "\n",
    "import random\n",
    "import warnings\n",
    "import time\n",
    "import pprint as pp\n",
    "from keras import layers\n",
    "from keras import models\n",
    "from time import strftime, gmtime\n",
    "\n",
    "import pandas as pd\n",
    "import numpy as np\n",
    "import matplotlib.pyplot as plt\n",
    "import tensorflow as tf\n",
    "\n",
    "from IPython import get_ipython\n",
    "\n",
    "ip = get_ipython()\n",
    "\n",
    "if ip == None:\n",
    "    print('Python Script from notebook is running.')\n",
    "    plt.switch_backend('agg')\n",
    "else:\n",
    "    print('Notebook is running.')\n",
    "\n",
    "import os\n",
    "\n",
    "from os import walk\n",
    "import copy\n",
    "\n",
    "#scratch_dir = '/scratch/gilbreth/azehady/'\n",
    "scratch_dir = '/home/azehady/projects/'\n",
    "project_dir = 'automatic_fossil_image_detection/' \n",
    "\n",
    "os.chdir(scratch_dir + project_dir)\n",
    "\n",
    "path = scratch_dir + project_dir + 'datapack_images/Global/Foram_TSCLite_Images'\n",
    "\n",
    "file_names = None\n",
    "for (dirpath, dirnames, fnames) in walk(path):\n",
    "    file_names = fnames\n",
    "\n",
    "single_image_file = []\n",
    "multiple_image_file = []\n",
    "genus_single = []\n",
    "species_single = []\n",
    "genus_multiple = []\n",
    "species_multiple = []\n",
    "\n",
    "for f in file_names:\n",
    "    forig = copy.copy(f)\n",
    "    if ' ' in f:\n",
    "        f = f.split(' ')\n",
    "    elif '_' in f:\n",
    "        f = f.split('_')\n",
    "    if 'tiny' in forig and len(f) != 2:\n",
    "        #print('single = ' + str(f))\n",
    "        single_image_file.append(forig)\n",
    "        genus_single.append(f[0])\n",
    "        species_single.append(f[1])\n",
    "    else:\n",
    "        #print('multi = ' + str(f))\n",
    "        multiple_image_file.append(forig)\n",
    "        genus_multiple.append(f[0])\n",
    "        fm = f[1].split('.')[0]\n",
    "        species_multiple.append(fm)\n",
    "\n",
    "        \n",
    "        \n",
    "'''\n",
    "\n",
    "print(genus_single)\n",
    "print(species_single)\n",
    "print('')\n",
    "print(genus_multiple)\n",
    "print(species_multiple)\n",
    "\n",
    "'''\n",
    "\n",
    "\n",
    "for i, f in enumerate(single_image_file):\n",
    "    s = str(genus_single[i]) + ', ' + str(f)\n",
    "    #print(s)\n",
    "    \n",
    "print(len(genus_single))\n",
    "print(genus_multiple)\n",
    "\n",
    "\n",
    "# 79 different classes\n",
    "cls = genus_single\n",
    "file_names = single_image_file\n",
    "multi_cls = {}\n",
    "final_cls = {}\n",
    "k = 0\n",
    "for j, cl in enumerate(cls):\n",
    "    if cl in multi_cls.keys():\n",
    "        multi_cls[cl].append(j)\n",
    "    else:\n",
    "        a = [j]\n",
    "        multi_cls[cl] = a\n",
    "        final_cls[cl] = k\n",
    "        k += 1\n",
    "    \n",
    "print(multi_cls)\n",
    "print(\"\")\n",
    "print(final_cls)\n",
    "print(\"\")\n",
    "\n",
    "classes = {}\n",
    "class_names = {}\n",
    "for k in multi_cls.keys():\n",
    "    clss = multi_cls[k]\n",
    "    for c in clss:\n",
    "        classes[c] = final_cls[k]\n",
    "        class_names[c] = k\n",
    "     \n",
    "print(classes)\n",
    "print(\"\")\n",
    "print(class_names)\n",
    "\n",
    "uniq_cls = uniq_genus = list(multi_cls.keys())\n",
    "\n",
    "print(\"\")\n",
    "print(uniq_cls)\n",
    "        \n",
    "#print(cls)\n",
    "#print(file_names)\n",
    "\n",
    "# Link: https://gist.github.com/oeway/2e3b989e0343f0884388ed7ed82eb3b0\n",
    "import numpy as np\n",
    "import scipy\n",
    "import scipy.ndimage\n",
    "from scipy.ndimage.filters import gaussian_filter\n",
    "from scipy.ndimage.interpolation import map_coordinates\n",
    "import collections\n",
    "from PIL import Image\n",
    "import numbers\n",
    "import random\n",
    "from scipy import ndarray\n",
    "import skimage as sk\n",
    "from skimage import transform\n",
    "from skimage import util\n",
    "\n",
    "\n",
    "def center_crop(x, center_crop_size):\n",
    "    assert x.ndim == 2\n",
    "    centerw, centerh = x.shape[0] // 2, x.shape[1] // 2\n",
    "    halfw, halfh = center_crop_size[0] // 2, center_crop_size[1] // 2\n",
    "    return x[centerw - halfw:centerw + halfw, centerh - halfh:centerh + halfh]\n",
    "\n",
    "def center_crop_rgb(x, center_crop_size):\n",
    "    assert x.ndim == 3\n",
    "    centerw, centerh = int(x.shape[0] // 2), int(x.shape[1] // 2)\n",
    "    halfw, halfh = int(center_crop_size[0] // 2), int(center_crop_size[1] // 2)\n",
    "    \n",
    "    chan = x.shape[2]\n",
    "    xr = np.zeros((int(center_crop_size[0]), int(center_crop_size[1]), chan))\n",
    "    \n",
    "    for c in range(chan):\n",
    "        xr[0:int(center_crop_size[0]), 0:int(center_crop_size[1]), c] = x[centerw - halfw:centerw + halfw, centerh - halfh:centerh + halfh, c]\n",
    "        \n",
    "    return xr\n",
    "\n",
    "def rotate(image_array, degree):\n",
    "    return sk.transform.rotate(image_array, degree)\n",
    "\n",
    "def random_rotation(image_array):\n",
    "    # pick a random degree of rotation between 25% on the left and 25% on the right\n",
    "    random_degree = random.uniform(-25, 25)\n",
    "    return sk.transform.rotate(image_array, random_degree)\n",
    "\n",
    "def random_noise(image_array):\n",
    "    # add random noise to the image\n",
    "    return sk.util.random_noise(image_array)\n",
    "\n",
    "def horizontal_flip(image_array):\n",
    "    # horizontal flip doesn't need skimage, it's easy as flipping the image array of pixels !\n",
    "    return image_array[:, ::-1]\n",
    "\n",
    "def vertical_flip(image_array):\n",
    "    return np.flipud(image_array)\n",
    "\n",
    "\n",
    "# Load image data from file\n",
    "# And augment images\n",
    "from keras.preprocessing.image import ImageDataGenerator, array_to_img, img_to_array, load_img\n",
    "from keras.utils import to_categorical\n",
    "from skimage.transform import resize\n",
    "from skimage import img_as_ubyte\n",
    "\n",
    "img_width = 331 #128 * 2 * 2\n",
    "img_height = 331 #128 * 2 * 2\n",
    "img_chan = 3\n",
    "\n",
    "plt.figure(figsize=(10,10))\n",
    "train_imgs = []\n",
    "train_lbls = []\n",
    "for j, fname in enumerate(file_names):\n",
    "    img = load_img(path + '/' + fname)\n",
    "    #plt.imshow(img)\n",
    "    #plt.show()\n",
    "    # converting to numpy array\n",
    "    imga = np.array(img)\n",
    "    print(imga.shape)\n",
    "    \n",
    "    # reshaping to same size using the power of cv\n",
    "    imgr = cv.resize(imga, (img_width, img_height), interpolation=cv.INTER_AREA)\n",
    "    train_imgs.append(imgr)\n",
    "    clas = final_cls[class_names[j]]\n",
    "    train_lbls.append(clas)\n",
    "    \n",
    "    #plt.subplot((j%10) + 1,len(file_names), (j%10) + 1)\n",
    "    print(j)\n",
    "    print(class_names[j])\n",
    "    print(imgr.shape)\n",
    "    \n",
    "    plt.imshow(train_imgs[j])\n",
    "\n",
    "    plt.show()\n",
    "\n",
    "train_lbls = to_categorical(train_lbls)\n",
    "\n",
    "\n",
    "# Image Data Augmentation\n",
    "from copy import copy\n",
    "\n",
    "nrow = 3\n",
    "ncol = 13\n",
    "\n",
    "#f, ax = plt.subplots(nrow, ncol, figsize=(20, 20))"
   ]
  },
  {
   "cell_type": "code",
   "execution_count": 5,
   "metadata": {},
   "outputs": [
    {
     "name": "stdout",
     "output_type": "stream",
     "text": [
      "(236, 331, 331, 3)\n",
      "(236, 79)\n",
      "[0. 0. 0. 0. 0. 0. 0. 0. 0. 0. 0. 0. 0. 0. 0. 0. 0. 0. 0. 0. 0. 0. 0. 0.\n",
      " 0. 0. 0. 0. 0. 0. 0. 0. 0. 0. 0. 0. 0. 0. 0. 0. 0. 0. 0. 0. 0. 0. 0. 0.\n",
      " 0. 0. 0. 0. 0. 0. 0. 0. 0. 0. 0. 0. 0. 0. 0. 0. 0. 0. 1. 0. 0. 0. 0. 0.\n",
      " 0. 0. 0. 0. 0. 0. 0.]\n",
      "66\n",
      "Abathomphalus\n"
     ]
    },
    {
     "data": {
      "image/png": "[encoded data removed]",
      "text/plain": [
       "<matplotlib.figure.Figure at 0x2b567c157b00>"
      ]
     },
     "metadata": {},
     "output_type": "display_data"
    },
    {
     "name": "stdout",
     "output_type": "stream",
     "text": [
      "[  0   1   2   3   4   5   6   7   8   9  10  11  12  13  14  15  16  17\n",
      "  18  19  20  21  22  23  24  25  26  27  28  29  30  31  32  33  34  35\n",
      "  36  37  38  39  40  41  42  43  44  45  46  47  48  49  50  51  52  53\n",
      "  54  55  56  57  58  59  60  61  62  63  64  65  66  67  68  69  70  71\n",
      "  72  73  74  75  76  77  78  79  80  81  82  83  84  85  86  87  88  89\n",
      "  90  91  92  93  94  95  96  97  98  99 100 101 102 103 104 105 106 107\n",
      " 108 109 110 111 112 113 114 115 116 117 118 119 120 121 122 123 124 125\n",
      " 126 127 128 129 130 131 132 133 134 135 136 137 138 139 140 141 142 143\n",
      " 144 145 146 147 148 149 150 151 152 153 154 155 156 157 158 159 160 161\n",
      " 162 163 164 165 166 167 168 169 170 171 172 173 174 175 176 177 178 179\n",
      " 180 181 182 183 184 185 186 187 188 189 190 191 192 193 194 195 196 197\n",
      " 198 199 200 201 202 203 204 205 206 207 208 209 210 211 212 213 214 215\n",
      " 216 217 218 219 220 221 222 223 224 225 226 227 228 229 230 231 232 233\n",
      " 234 235]\n",
      "[  0   1   2   3   4   5   6   7   8   9  10  11  12  13  14  15  16  17\n",
      "  18  19  20  21  22  23  24  25  26  27  28  29  30  31  32  33  34  35\n",
      "  36  37  38  39  40  41  42  43  44  45  46  47  48  49  50  51  52  53\n",
      "  54  55  56  57  58  59  60  61  62  63  64  65  66  67  68  69  70  71\n",
      "  72  73  74  75  76  77  78  79  80  81  82  83  84  85  86  87  88  89\n",
      "  90  91  92  93  94  95  96  97  98  99 100 101 102 103 104 105 106 107\n",
      " 108 109 110 111 112 113 114 115 116 117 118 119 120 121 122 123 124 125\n",
      " 126 127 128 129 130 131 132 133 134 135 136 137 138 139 140 141 142 143\n",
      " 144 145 146 147 148 149 150 151 152 153 154 155 156 157 158 159 160 161\n",
      " 162 163 164 165 166 167 168 169 170 171 172 173 174 175 176 177 178 179\n",
      " 180 181 182 183 184 185 186 187 188 189 190 191 192 193 194 195 196 197\n",
      " 198 199 200 201 202 203 204 205 206 207 208 209 210 211 212 213 214 215\n",
      " 216 217 218 219 220 221 222 223 224 225 226 227 228 229 230 231 232 233\n",
      " 234 235]\n",
      "(177, 331, 331, 3)\n",
      "(59, 331, 331, 3)\n",
      "(177, 79)\n",
      "(59, 79)\n"
     ]
    }
   ],
   "source": [
    "# get the main training image data\n",
    "train_images = np.array(train_imgs)\n",
    "# For Dense layers\n",
    "#train_images = train_images.reshape(len(train_images), img_width * img_height * img_chan)\n",
    "# For CNN\n",
    "train_images = train_images.reshape(len(train_images), img_width, img_height, img_chan)\n",
    "train_images = train_images.astype('float32') / 255\n",
    "\n",
    "# convert into categorical y label\n",
    "train_labels = np.array(train_lbls)\n",
    "\n",
    "\n",
    "print(train_images.shape)\n",
    "print(train_labels.shape)\n",
    "\n",
    "def categorical_to_cls(train_label):\n",
    "    for ix,x in enumerate(train_label):\n",
    "        if x != 0:\n",
    "            break\n",
    "    \n",
    "    return(ix)\n",
    "\n",
    "# Randomly select a training image and check the correctness of the genus class\n",
    "\n",
    "ir = np.random.randint(0, train_labels.shape[0])\n",
    "\n",
    "print(train_labels[ir])\n",
    "cl = categorical_to_cls(train_labels[ir])\n",
    "print(cl)\n",
    "print(class_names[cl])\n",
    "plt.imshow(train_images[ir])\n",
    "plt.show()\n",
    "\n",
    "\n",
    "'''\n",
    "aug_images_a = np.array(aug_images)\n",
    "aug_labels_a = np.array(aug_labels)\n",
    "print(aug_images_a.shape)\n",
    "print(aug_labels_a.shape)\n",
    "'''\n",
    "\n",
    "#idxx = np.arange(len(aug_images_a))\n",
    "idxx = np.arange(len(train_images))\n",
    "print(idxx)\n",
    "#np.random.shuffle(idxx)\n",
    "#print(idxx)\n",
    "\n",
    "# Keep the main images as the test images\n",
    "test_images = train_images\n",
    "test_labels = train_labels\n",
    "\n",
    "#train_images_interim = aug_images_a[idxx,]\n",
    "#train_labels_interim = aug_labels_a[idxx,]\n",
    "\n",
    "train_images_interim = train_images[idxx,]\n",
    "train_labels_interim = train_labels[idxx,]\n",
    "\n",
    "train_index = np.arange(len(train_images_interim))\n",
    "print(train_index)\n",
    "\n",
    "from sklearn.model_selection import train_test_split\n",
    "\n",
    "# stratify based on the label so that training and validation data has equal proportion for each class\n",
    "validation_split = 0.25\n",
    "train_ids, validation_ids, train_images, validation_images, train_labels, validation_labels = train_test_split(\n",
    "    train_index,\n",
    "    train_images_interim,\n",
    "    train_labels_interim,\n",
    "    test_size=validation_split,\n",
    "    shuffle = True, # not needed, by default true\n",
    "    #stratify=train_labels_interim, \n",
    "    random_state=2347) # keep the same random state so that we can compare different models\n",
    "\n",
    "print(train_images.shape)\n",
    "print(validation_images.shape)\n",
    "print(train_labels.shape)\n",
    "print(validation_labels.shape)"
   ]
  },
  {
   "cell_type": "code",
   "execution_count": 6,
   "metadata": {},
   "outputs": [
    {
     "data": {
      "image/png": "[encoded data removed]",
      "text/plain": [
       "<matplotlib.figure.Figure at 0x2b561f087e10>"
      ]
     },
     "metadata": {},
     "output_type": "display_data"
    },
    {
     "name": "stdout",
     "output_type": "stream",
     "text": [
      "25\n",
      "Morozovella\n"
     ]
    },
    {
     "data": {
      "image/png": "[encoded data removed]",
      "text/plain": [
       "<matplotlib.figure.Figure at 0x2b56964edef0>"
      ]
     },
     "metadata": {},
     "output_type": "display_data"
    },
    {
     "name": "stdout",
     "output_type": "stream",
     "text": [
      "57\n",
      "Microhedbergella\n",
      "177\n",
      "\n",
      "59\n",
      "\n",
      "[ 1  1 20  1  2  4 10  4  1  1  1  1  2  1  2  2  3  2  4  8  1  6  6  4\n",
      " 10  6  2  2  1  5  4  1  1  1  2  2  2  4  2  0  1  1  2  2  2  0  3  0\n",
      "  1  1  1  1  1  1  1  2  1  0  3  0  1  3  1  1  2  0  0  1  0  2  0  1\n",
      "  1  1  1  1  1  1  1  1]\n",
      "\n",
      "[1 2 9 1 2 1 2 0 1 1 0 2 0 1 0 1 0 0 1 0 0 0 4 2 0 3 0 2 3 0 0 1 0 1 0 0 0\n",
      " 0 1 1 0 1 0 0 0 0 2 0 0 0 0 1 1 1 0 0 0 0 0 0 0 2 0 0 1 0 1 1 0 0 0 0 0 0\n",
      " 1 1 1 1 0 1]\n",
      "\n"
     ]
    },
    {
     "data": {
      "image/png": "[encoded data removed]",
      "text/plain": [
       "<matplotlib.figure.Figure at 0x2b56962e8a90>"
      ]
     },
     "metadata": {},
     "output_type": "display_data"
    },
    {
     "name": "stdout",
     "output_type": "stream",
     "text": [
      "(177, 331, 331, 3)\n",
      "(59, 331, 331, 3)\n",
      "(236, 331, 331, 3)\n",
      "(177, 79)\n",
      "(59, 79)\n",
      "(236, 79)\n",
      "_________________________________________________________________\n",
      "Layer (type)                 Output Shape              Param #   \n",
      "=================================================================\n",
      "conv2d_1 (Conv2D)            (None, 329, 329, 32)      864       \n",
      "_________________________________________________________________\n",
      "batch_normalization_1 (Batch (None, 329, 329, 32)      128       \n",
      "_________________________________________________________________\n",
      "dropout_1 (Dropout)          (None, 329, 329, 32)      0         \n",
      "_________________________________________________________________\n",
      "max_pooling2d_1 (MaxPooling2 (None, 164, 164, 32)      0         \n",
      "_________________________________________________________________\n",
      "conv2d_2 (Conv2D)            (None, 162, 162, 64)      18432     \n",
      "_________________________________________________________________\n",
      "batch_normalization_2 (Batch (None, 162, 162, 64)      256       \n",
      "_________________________________________________________________\n",
      "dropout_2 (Dropout)          (None, 162, 162, 64)      0         \n",
      "_________________________________________________________________\n",
      "max_pooling2d_2 (MaxPooling2 (None, 81, 81, 64)        0         \n",
      "_________________________________________________________________\n",
      "conv2d_3 (Conv2D)            (None, 79, 79, 64)        36864     \n",
      "_________________________________________________________________\n",
      "batch_normalization_3 (Batch (None, 79, 79, 64)        256       \n",
      "_________________________________________________________________\n",
      "dropout_3 (Dropout)          (None, 79, 79, 64)        0         \n",
      "_________________________________________________________________\n",
      "flatten_1 (Flatten)          (None, 399424)            0         \n",
      "_________________________________________________________________\n",
      "dense_1 (Dense)              (None, 512)               204505600 \n",
      "_________________________________________________________________\n",
      "batch_normalization_4 (Batch (None, 512)               2048      \n",
      "_________________________________________________________________\n",
      "dropout_4 (Dropout)          (None, 512)               0         \n",
      "_________________________________________________________________\n",
      "dense_2 (Dense)              (None, 79)                40527     \n",
      "=================================================================\n",
      "Total params: 204,604,975\n",
      "Trainable params: 204,603,631\n",
      "Non-trainable params: 1,344\n",
      "_________________________________________________________________\n",
      "vgg19_extended_sgd_momemtum_0.9_decay_0_epoch_200_two_fc_4096_lr_0.01_no_reduce_lr_callback_time_2020-02-01 04:29:36\n",
      "_________________________________________________________________\n",
      "Layer (type)                 Output Shape              Param #   \n",
      "=================================================================\n",
      "input_1 (InputLayer)         (None, 331, 331, 3)       0         \n",
      "_________________________________________________________________\n",
      "block1_conv1 (Conv2D)        (None, 331, 331, 64)      1792      \n",
      "_________________________________________________________________\n",
      "block1_conv2 (Conv2D)        (None, 331, 331, 64)      36928     \n",
      "_________________________________________________________________\n",
      "block1_pool (MaxPooling2D)   (None, 165, 165, 64)      0         \n",
      "_________________________________________________________________\n",
      "block2_conv1 (Conv2D)        (None, 165, 165, 128)     73856     \n",
      "_________________________________________________________________\n",
      "block2_conv2 (Conv2D)        (None, 165, 165, 128)     147584    \n",
      "_________________________________________________________________\n",
      "block2_pool (MaxPooling2D)   (None, 82, 82, 128)       0         \n",
      "_________________________________________________________________\n",
      "block3_conv1 (Conv2D)        (None, 82, 82, 256)       295168    \n",
      "_________________________________________________________________\n",
      "block3_conv2 (Conv2D)        (None, 82, 82, 256)       590080    \n",
      "_________________________________________________________________\n",
      "block3_conv3 (Conv2D)        (None, 82, 82, 256)       590080    \n",
      "_________________________________________________________________\n",
      "block3_conv4 (Conv2D)        (None, 82, 82, 256)       590080    \n",
      "_________________________________________________________________\n",
      "block3_pool (MaxPooling2D)   (None, 41, 41, 256)       0         \n",
      "_________________________________________________________________\n",
      "block4_conv1 (Conv2D)        (None, 41, 41, 512)       1180160   \n",
      "_________________________________________________________________\n",
      "block4_conv2 (Conv2D)        (None, 41, 41, 512)       2359808   \n",
      "_________________________________________________________________\n",
      "block4_conv3 (Conv2D)        (None, 41, 41, 512)       2359808   \n",
      "_________________________________________________________________\n",
      "block4_conv4 (Conv2D)        (None, 41, 41, 512)       2359808   \n",
      "_________________________________________________________________\n",
      "block4_pool (MaxPooling2D)   (None, 20, 20, 512)       0         \n",
      "_________________________________________________________________\n",
      "block5_conv1 (Conv2D)        (None, 20, 20, 512)       2359808   \n",
      "_________________________________________________________________\n",
      "block5_conv2 (Conv2D)        (None, 20, 20, 512)       2359808   \n",
      "_________________________________________________________________\n",
      "block5_conv3 (Conv2D)        (None, 20, 20, 512)       2359808   \n",
      "_________________________________________________________________\n",
      "block5_conv4 (Conv2D)        (None, 20, 20, 512)       2359808   \n",
      "_________________________________________________________________\n",
      "block5_pool (MaxPooling2D)   (None, 10, 10, 512)       0         \n",
      "=================================================================\n",
      "Total params: 20,024,384\n",
      "Trainable params: 20,024,384\n",
      "Non-trainable params: 0\n",
      "_________________________________________________________________\n",
      "_________________________________________________________________\n",
      "Layer (type)                 Output Shape              Param #   \n",
      "=================================================================\n",
      "vgg19 (Model)                (None, 10, 10, 512)       20024384  \n",
      "_________________________________________________________________\n",
      "flatten (Flatten)            (None, 51200)             0         \n",
      "_________________________________________________________________\n",
      "fc1 (Dense)                  (None, 4096)              209719296 \n",
      "_________________________________________________________________\n",
      "batch_normalization_5 (Batch (None, 4096)              16384     \n",
      "_________________________________________________________________\n",
      "dropout_5 (Dropout)          (None, 4096)              0         \n",
      "_________________________________________________________________\n",
      "fc2 (Dense)                  (None, 4096)              16781312  \n",
      "_________________________________________________________________\n",
      "batch_normalization_6 (Batch (None, 4096)              16384     \n",
      "_________________________________________________________________\n",
      "dropout_6 (Dropout)          (None, 4096)              0         \n",
      "_________________________________________________________________\n",
      "dense_3 (Dense)              (None, 79)                323663    \n",
      "=================================================================\n",
      "Total params: 246,881,423\n",
      "Trainable params: 226,840,655\n",
      "Non-trainable params: 20,040,768\n",
      "_________________________________________________________________\n"
     ]
    }
   ],
   "source": [
    "train_img_random = np.random.randint(0,train_images.shape[0])\n",
    "\n",
    "plt.imshow(train_images[train_img_random])\n",
    "plt.show()\n",
    "#print(train_labels[train_img_random])\n",
    "cl = categorical_to_cls(train_labels[train_img_random])\n",
    "print(cl)\n",
    "print(class_names[cl])\n",
    "\n",
    "validation_img_random = np.random.randint(0, validation_images.shape[0])\n",
    "\n",
    "plt.imshow(validation_images[validation_img_random])\n",
    "plt.show()\n",
    "#print(validation_labels[validation_img_random])\n",
    "cl = categorical_to_cls(validation_labels[validation_img_random])\n",
    "print(cl)\n",
    "print(class_names[cl])\n",
    "\n",
    "# Check how good is the stratification (class distribution in training and validation data)\n",
    "\n",
    "tl = []\n",
    "tlc = []\n",
    "for x in train_labels:\n",
    "    cl = categorical_to_cls(x)\n",
    "    tlc.append(cl)\n",
    "    \n",
    "vl = []\n",
    "vlc = []\n",
    "for x in validation_labels:\n",
    "    cl = categorical_to_cls(x)\n",
    "    vlc.append(cl)    \n",
    "    \n",
    "print(len(tlc))\n",
    "#print(tlc)\n",
    "print(\"\")\n",
    "print(len(vlc))\n",
    "#print(vlc)\n",
    "print(\"\")\n",
    "\n",
    "bin_num = 80\n",
    "th, tbin = np.histogram(tlc, bins=bin_num)\n",
    "print(th)\n",
    "print(\"\")\n",
    "vh, vbin = np.histogram(vlc, bins=bin_num)\n",
    "print(vh)\n",
    "print(\"\")\n",
    "\n",
    "plt.figure()\n",
    "plt.subplot(1, 2, 1)\n",
    "plt.plot(tbin[0:bin_num], th)\n",
    "plt.title('training data')\n",
    "plt.subplot(1, 2, 2)\n",
    "plt.plot(vbin[0:bin_num], vh)\n",
    "plt.title('validation data  (Class/Genus distribution)')\n",
    "plt.show()\n",
    "    \n",
    "\n",
    "print(train_images.shape)\n",
    "print(validation_images.shape)\n",
    "print(test_images.shape)\n",
    "\n",
    "print(train_labels.shape)\n",
    "print(validation_labels.shape)\n",
    "print(test_labels.shape)\n",
    "\n",
    "from keras import layers\n",
    "from keras import models\n",
    "from time import strftime, gmtime\n",
    "\n",
    "cur_time = strftime(\"%Y-%m-%d %H:%M:%S\", gmtime())\n",
    "model_name='simple_convnet' + str(cur_time)\n",
    "\n",
    "model = models.Sequential()\n",
    "\n",
    "model.add(layers.Conv2D(32, (3, 3), use_bias = False, activation='relu', input_shape=(img_width, img_height, img_chan)))\n",
    "model.add(layers.BatchNormalization())\n",
    "model.add(layers.Dropout(0.5))\n",
    "model.add(layers.MaxPooling2D((2, 2)))\n",
    "model.add(layers.Conv2D(64, (3, 3), use_bias = False, activation='relu'))\n",
    "model.add(layers.BatchNormalization())\n",
    "model.add(layers.Dropout(0.5))\n",
    "model.add(layers.MaxPooling2D((2, 2)))\n",
    "model.add(layers.Conv2D(64, (3, 3), use_bias = False, activation='relu'))\n",
    "model.add(layers.BatchNormalization())\n",
    "model.add(layers.Dropout(0.5))\n",
    "model.add(layers.Flatten(input_shape = (img_width, img_height, img_chan)))\n",
    "model.add(layers.Dense(512, activation='relu'))\n",
    "model.add(layers.BatchNormalization())\n",
    "model.add(layers.Dropout(0.5))\n",
    "# model.add(layers.Flatten())\n",
    "model.add(layers.Dense(len(uniq_cls), activation='sigmoid'))\n",
    "\n",
    "\n",
    "model.summary()\n",
    "\n",
    "cur_time = strftime(\"%Y-%m-%d %H:%M:%S\", gmtime())\n",
    "model_name='vgg19_extended_sgd_momemtum_0.9_decay_0_epoch_200_two_fc_4096_lr_0.01_no_reduce_lr_callback_time_' + str(cur_time)\n",
    "#model_name = 'convbase_vgg19_adam_epoch_200_two_fc_4096' + str(cur_time)\n",
    "print(model_name)\n",
    "\n",
    "cur_time = strftime(\"%Y-%m-%d %H:%M:%S\", gmtime())\n",
    "\n",
    "# Use pretrained modela\n",
    "# Model 1\n",
    "\n",
    "#from keras.applications import VGG16\n",
    "#conv_base_vgg16 = VGG16(weights='imagenet',\n",
    "#                  include_top=False,\n",
    "#                  input_shape=(img_width, img_height, img_chan))\n",
    "\n",
    "# Model 2\n",
    "\n",
    "from keras.applications import VGG19\n",
    "conv_base_vgg19 = VGG19(weights='imagenet',\n",
    "                  include_top=False,\n",
    "                  input_shape=(img_width, img_height, img_chan))\n",
    "\n",
    "# Model 3\n",
    "\n",
    "from keras.applications import ResNet50\n",
    "\n",
    "#conv_base_resnet50 = ResNet50(weights='imagenet',\n",
    "#                  include_top=False,\n",
    "#                  input_shape=(img_width, img_height, img_chan))\n",
    "\n",
    "# Model 4\n",
    "#from keras.applications import InceptionV3\n",
    "\n",
    "#conv_base_inceptionv3 = InceptionV3(weights='imagenet',\n",
    "#                  include_top=False, \n",
    "#                  input_shape=(img_width, img_height, img_chan))\n",
    "\n",
    "# Model 5\n",
    "from keras.applications import InceptionResNetV2\n",
    "\n",
    "#conv_base_inceptionresnetv2 = InceptionResNetV2(weights = 'imagenet',\n",
    "#                                               include_top=False, \n",
    "#                                               input_shape=(img_width, img_height, img_chan))\n",
    "\n",
    "# Model 6\n",
    "#from keras.applications import NASNetLarge\n",
    "\n",
    "#conv_base_nasnet = NASNetLarge(weights = 'imagenet', \n",
    "#                                   include_top = False,\n",
    "#                                 input_shape=(img_width, img_height, img_chan))\n",
    "\n",
    "conv_base = conv_base_vgg19\n",
    "#conv_base = conv_base_inceptionresnetv2\n",
    "conv_base.summary()\n",
    "\n",
    "\n",
    "from keras import regularizers\n",
    "\n",
    "model = models.Sequential()\n",
    "conv_base.trainable = False\n",
    "model.add(conv_base)\n",
    "model.add(layers.Flatten(name='flatten'))\n",
    "model.add(layers.Dense(4096, activation='relu', name='fc1'))\n",
    "model.add(layers.BatchNormalization())\n",
    "model.add(layers.Dropout(0.5))\n",
    "model.add(layers.Dense(4096, activation='relu', name='fc2'))\n",
    "model.add(layers.BatchNormalization())\n",
    "model.add(layers.Dropout(0.5))\n",
    "model.add(layers.Dense(len(uniq_cls), activation='sigmoid', kernel_regularizer=regularizers.l2()))\n",
    "\n",
    "#model.add(layers.Flatten())\n",
    "#model.add(layers.Dense(512, activation='relu')) #activity_regularizer=regularizers.l1(0.01)\n",
    "#model.add(layers.BatchNormalization())\n",
    "#model.add(layers.Dropout(0.5))\n",
    "#model.add(layers.Dense(len(uniq_cls), activation='sigmoid', kernel_regularizer=regularizers.l2(0.05)))\n",
    "model_backup = model\n",
    "model.summary()"
   ]
  },
  {
   "cell_type": "code",
   "execution_count": 7,
   "metadata": {},
   "outputs": [
    {
     "name": "stdout",
     "output_type": "stream",
     "text": [
      "A local file was found, but it seems to be incomplete or outdated because the auto file hash does not match the original value of 6d6bbae143d832006294945121d1f1fc so we will re-download the data.\n",
      "Downloading data from http://github.com/fchollet/deep-learning-models/releases/download/v0.1/vgg19_weights_tf_dim_ordering_tf_kernels_notop.h5\n",
      "80142336/80134624 [==============================] - 1s 0us/step\n"
     ]
    }
   ],
   "source": [
    "from keras import regularizers\n",
    "from keras.models import Sequential\n",
    "from keras.layers import Conv2D, MaxPooling2D, GlobalAveragePooling2D, GlobalMaxPooling2D, BatchNormalization\n",
    "from keras.layers.core import Flatten, Dense, Dropout, Lambda\n",
    "from keras.utils import get_file\n",
    "from keras import backend as K\n",
    "import h5py\n",
    "\n",
    "def VGG19_convolutions(input_shape = (331, 331, 3),\n",
    "                       pooling=None,\n",
    "                       classes=1000):\n",
    "\n",
    "    model = Sequential()\n",
    "    \n",
    "    # Block 1\n",
    "    model.add(Conv2D(64, (3, 3),\n",
    "                      activation='relu',\n",
    "                      padding='same',\n",
    "                      name='block1_conv1', \n",
    "                      input_shape=input_shape))\n",
    "   \n",
    "    model.add(Conv2D(64, (3, 3),\n",
    "                      activation='relu',\n",
    "                      padding='same',\n",
    "                      name='block1_conv2'))\n",
    "    \n",
    "    model.add(MaxPooling2D((2, 2), strides=(2, 2), name='block1_pool'))\n",
    "    \n",
    "    # Block 2\n",
    "    model.add(Conv2D(128, (3, 3),\n",
    "                      activation='relu',\n",
    "                      padding='same',\n",
    "                      name='block2_conv1'))\n",
    "    model.add(Conv2D(128, (3, 3),\n",
    "                      activation='relu',\n",
    "                      padding='same',\n",
    "                      name='block2_conv2'))\n",
    "    model.add(MaxPooling2D((2, 2), strides=(2, 2), name='block2_pool'))\n",
    "\n",
    "    # Block 3\n",
    "    model.add(Conv2D(256, (3, 3),\n",
    "                      activation='relu',\n",
    "                      padding='same',\n",
    "                      name='block3_conv1'))\n",
    "    model.add(Conv2D(256, (3, 3),\n",
    "                      activation='relu',\n",
    "                      padding='same',\n",
    "                      name='block3_conv2'))\n",
    "    model.add(Conv2D(256, (3, 3),\n",
    "                      activation='relu',\n",
    "                      padding='same',\n",
    "                      name='block3_conv3'))\n",
    "    model.add(Conv2D(256, (3, 3),\n",
    "                      activation='relu',\n",
    "                      padding='same',\n",
    "                      name='block3_conv4'))\n",
    "    model.add(MaxPooling2D((2, 2), strides=(2, 2), name='block3_pool'))\n",
    "\n",
    "    # Block 4\n",
    "    model.add(Conv2D(512, (3, 3),\n",
    "                      activation='relu',\n",
    "                      padding='same',\n",
    "                      name='block4_conv1'))\n",
    "    model.add(Conv2D(512, (3, 3),\n",
    "                      activation='relu',\n",
    "                      padding='same',\n",
    "                      name='block4_conv2'))\n",
    "    model.add(Conv2D(512, (3, 3),\n",
    "                      activation='relu',\n",
    "                      padding='same',\n",
    "                      name='block4_conv3'))\n",
    "    model.add(Conv2D(512, (3, 3),\n",
    "                      activation='relu',\n",
    "                      padding='same',\n",
    "                      name='block4_conv4'))\n",
    "    model.add(MaxPooling2D((2, 2), strides=(2, 2), name='block4_pool'))\n",
    "\n",
    "    # Block 5\n",
    "    model.add(Conv2D(512, (3, 3),\n",
    "                      activation='relu',\n",
    "                      padding='same',\n",
    "                      name='block5_conv1'))\n",
    "    model.add(Conv2D(512, (3, 3),\n",
    "                      activation='relu',\n",
    "                      padding='same',\n",
    "                      name='block5_conv2'))\n",
    "    model.add(Conv2D(512, (3, 3),\n",
    "                      activation='relu',\n",
    "                      padding='same',\n",
    "                      name='block5_conv3'))\n",
    "    model.add(Conv2D(512, (3, 3),\n",
    "                      activation='relu',\n",
    "                      padding='same',\n",
    "                      name='block5_conv4'))\n",
    "    model.add(MaxPooling2D((2, 2), strides=(2, 2), name='block5_pool'))\n",
    "\n",
    "    if pooling == 'avg':\n",
    "        model.add(GlobalAveragePooling2D())\n",
    "    elif pooling == 'max':\n",
    "        model.add(GlobalMaxPooling2D())\n",
    "    \n",
    "    return model\n",
    "\n",
    "VGG19_WEIGHTS_PATH_NO_TOP = ('http://github.com/fchollet/deep-learning-models/'\n",
    "                             'releases/download/v0.1/'\n",
    "                             'vgg19_weights_tf_dim_ordering_tf_kernels_notop.h5')\n",
    "\n",
    "weights_path = get_file(\n",
    "                    'vgg19_weights_tf_dim_ordering_tf_kernels_notop.h5',\n",
    "                    VGG19_WEIGHTS_PATH_NO_TOP,\n",
    "                    cache_subdir='models',\n",
    "                    file_hash='6d6bbae143d832006294945121d1f1fc')"
   ]
  },
  {
   "cell_type": "code",
   "execution_count": 8,
   "metadata": {},
   "outputs": [],
   "source": [
    "model = VGG19_convolutions()\n",
    "\n",
    "model.load_weights(weights_path)\n",
    "       \n",
    "model.add(Flatten(name='flatten'))\n",
    "model.add(Dense(4096, activation='relu', name='fc1'))\n",
    "model.add(BatchNormalization())\n",
    "model.add(Dropout(0.5))\n",
    "model.add(Dense(4096, activation='relu', name='fc2'))\n",
    "model.add(BatchNormalization())\n",
    "model.add(Dropout(0.5))\n",
    "model.add(Dense(len(uniq_cls), activation='sigmoid', kernel_regularizer=regularizers.l2()))"
   ]
  },
  {
   "cell_type": "code",
   "execution_count": 9,
   "metadata": {},
   "outputs": [
    {
     "name": "stdout",
     "output_type": "stream",
     "text": [
      "_________________________________________________________________\n",
      "Layer (type)                 Output Shape              Param #   \n",
      "=================================================================\n",
      "block1_conv1 (Conv2D)        (None, 331, 331, 64)      1792      \n",
      "_________________________________________________________________\n",
      "block1_conv2 (Conv2D)        (None, 331, 331, 64)      36928     \n",
      "_________________________________________________________________\n",
      "block1_pool (MaxPooling2D)   (None, 165, 165, 64)      0         \n",
      "_________________________________________________________________\n",
      "block2_conv1 (Conv2D)        (None, 165, 165, 128)     73856     \n",
      "_________________________________________________________________\n",
      "block2_conv2 (Conv2D)        (None, 165, 165, 128)     147584    \n",
      "_________________________________________________________________\n",
      "block2_pool (MaxPooling2D)   (None, 82, 82, 128)       0         \n",
      "_________________________________________________________________\n",
      "block3_conv1 (Conv2D)        (None, 82, 82, 256)       295168    \n",
      "_________________________________________________________________\n",
      "block3_conv2 (Conv2D)        (None, 82, 82, 256)       590080    \n",
      "_________________________________________________________________\n",
      "block3_conv3 (Conv2D)        (None, 82, 82, 256)       590080    \n",
      "_________________________________________________________________\n",
      "block3_conv4 (Conv2D)        (None, 82, 82, 256)       590080    \n",
      "_________________________________________________________________\n",
      "block3_pool (MaxPooling2D)   (None, 41, 41, 256)       0         \n",
      "_________________________________________________________________\n",
      "block4_conv1 (Conv2D)        (None, 41, 41, 512)       1180160   \n",
      "_________________________________________________________________\n",
      "block4_conv2 (Conv2D)        (None, 41, 41, 512)       2359808   \n",
      "_________________________________________________________________\n",
      "block4_conv3 (Conv2D)        (None, 41, 41, 512)       2359808   \n",
      "_________________________________________________________________\n",
      "block4_conv4 (Conv2D)        (None, 41, 41, 512)       2359808   \n",
      "_________________________________________________________________\n",
      "block4_pool (MaxPooling2D)   (None, 20, 20, 512)       0         \n",
      "_________________________________________________________________\n",
      "block5_conv1 (Conv2D)        (None, 20, 20, 512)       2359808   \n",
      "_________________________________________________________________\n",
      "block5_conv2 (Conv2D)        (None, 20, 20, 512)       2359808   \n",
      "_________________________________________________________________\n",
      "block5_conv3 (Conv2D)        (None, 20, 20, 512)       2359808   \n",
      "_________________________________________________________________\n",
      "block5_conv4 (Conv2D)        (None, 20, 20, 512)       2359808   \n",
      "_________________________________________________________________\n",
      "block5_pool (MaxPooling2D)   (None, 10, 10, 512)       0         \n",
      "_________________________________________________________________\n",
      "flatten (Flatten)            (None, 51200)             0         \n",
      "_________________________________________________________________\n",
      "fc1 (Dense)                  (None, 4096)              209719296 \n",
      "_________________________________________________________________\n",
      "batch_normalization_7 (Batch (None, 4096)              16384     \n",
      "_________________________________________________________________\n",
      "dropout_7 (Dropout)          (None, 4096)              0         \n",
      "_________________________________________________________________\n",
      "fc2 (Dense)                  (None, 4096)              16781312  \n",
      "_________________________________________________________________\n",
      "batch_normalization_8 (Batch (None, 4096)              16384     \n",
      "_________________________________________________________________\n",
      "dropout_8 (Dropout)          (None, 4096)              0         \n",
      "_________________________________________________________________\n",
      "dense_4 (Dense)              (None, 79)                323663    \n",
      "=================================================================\n",
      "Total params: 246,881,423\n",
      "Trainable params: 246,865,039\n",
      "Non-trainable params: 16,384\n",
      "_________________________________________________________________\n"
     ]
    }
   ],
   "source": [
    "model.summary()"
   ]
  },
  {
   "cell_type": "code",
   "execution_count": 20,
   "metadata": {},
   "outputs": [],
   "source": [
    "models_dir='/home/azehady/projects/automatic_fossil_image_detection/models'\n",
    "\n",
    "save_period=1\n",
    "schedule = None"
   ]
  },
  {
   "cell_type": "code",
   "execution_count": 21,
   "metadata": {},
   "outputs": [
    {
     "name": "stdout",
     "output_type": "stream",
     "text": [
      "/home/azehady/projects/automatic_fossil_image_detection/models/best_vgg19_extended_sgd_momemtum_0.9_decay_0_epoch_200_two_fc_4096_lr_0.01_no_reduce_lr_callback_time_2020-02-01 04:29:36_2020-02-01 04:32:07.h5\n",
      "/home/azehady/projects/automatic_fossil_image_detection/models/last_vgg19_extended_sgd_momemtum_0.9_decay_0_epoch_200_two_fc_4096_lr_0.01_no_reduce_lr_callback_time_2020-02-01 04:29:36_2020-02-01 04:32:07.h5\n"
     ]
    }
   ],
   "source": [
    "from keras.callbacks import LearningRateScheduler, ModelCheckpoint, TensorBoard\n",
    "from time import strftime, gmtime\n",
    "\n",
    "cur_time = strftime(\"%Y-%m-%d %H:%M:%S\", gmtime()) \n",
    "best_model_file = '{}/best_{}_{}.h5'.format(models_dir, model_name,cur_time)\n",
    "print(best_model_file)\n",
    "\n",
    "class ModelCheckpointMGPU(ModelCheckpoint):\n",
    "    def __init__(self, original_model, filepath, monitor='val_loss', verbose=0, save_best_only=False, save_weights_only=False, mode='auto', period=1):\n",
    "        self.original_model = original_model\n",
    "        super().__init__(filepath, monitor, verbose, save_best_only, save_weights_only, mode, period)\n",
    "\n",
    "    def on_epoch_end(self, epoch, logs=None):\n",
    "        self.model = self.original_model\n",
    "        super().on_epoch_end(epoch, logs)\n",
    "\n",
    "def freeze_model(model, freeze_before_layer):\n",
    "    if freeze_before_layer == \"ALL\":\n",
    "        for l in model.layers:\n",
    "            l.trainable = False\n",
    "    else:\n",
    "        freeze_before_layer_index = -1\n",
    "        for i, l in enumerate(model.layers):\n",
    "            if l.name == freeze_before_layer:\n",
    "                freeze_before_layer_index = i\n",
    "        for l in model.layers[:freeze_before_layer_index + 1]:\n",
    "            l.trainable = False\n",
    "\n",
    "\n",
    "best_model = ModelCheckpointMGPU(model, filepath=best_model_file, monitor='val_loss',\n",
    "                                     verbose=1,\n",
    "                                     mode='min',\n",
    "                                     period=save_period,\n",
    "                                     save_best_only=True,\n",
    "                                     save_weights_only=True)\n",
    "last_model_file = '{}/last_{}_{}.h5'.format(models_dir, model_name,cur_time)\n",
    "print(last_model_file)\n",
    "\n",
    "last_model = ModelCheckpointMGPU(model, filepath=last_model_file, monitor='val_loss',\n",
    "                                     verbose=1,\n",
    "                                     mode='min',\n",
    "                                     period=save_period,\n",
    "                                     save_best_only=False,\n",
    "                                     save_weights_only=True)\n",
    "\n",
    "callbacks = []\n",
    "callbacks.append(best_model)\n",
    "callbacks.append(last_model)\n",
    "\n",
    "tb = TensorBoard(\"./logs/{}\".format(model_name))\n",
    "callbacks.append(tb)"
   ]
  },
  {
   "cell_type": "code",
   "execution_count": 22,
   "metadata": {},
   "outputs": [],
   "source": [
    "from keras.optimizers import Adam, RMSprop,SGD\n",
    "\n",
    "opt_pref = 'adam2'\n",
    "learning_rate = 0.01\n",
    "momentum=0.9\n",
    "decay = 0\n",
    "\n",
    "if opt_pref == 'adam':\n",
    "    optimizer = 'adam'\n",
    "elif opt_pref == 'adam2':\n",
    "    #optimizer = Adam(lr=learning_rate, beta_1=0.9, beta_2=0.999, epsilon=1e-08, decay=decay, amsgrad=False)\n",
    "    optimizer = Adam(lr=learning_rate, beta_1=0.9, beta_2=0.999, epsilon=1e-10, decay=decay, amsgrad=False)\n",
    "elif opt_pref == 'amsgrad':\n",
    "    optimizer = Adam(lr=learning_rate, beta_1=0.9, beta_2=0.999, epsilon=1e-08, decay=decay, amsgrad=True)\n",
    "elif opt_pref == 'rmsprop':\n",
    "    optimizer = RMSprop(lr=learning_rate, decay = decay)\n",
    "elif opt_pref == 'adamax':\n",
    "    optimizer = AdaMax(lr=learning_rate, decay = decay)\n",
    "elif opt_pref == 'sgd':\n",
    "    optimizer = SGD(lr=learning_rate, decay=decay, momentum=momentum) #, nesterov=True)"
   ]
  },
  {
   "cell_type": "code",
   "execution_count": 38,
   "metadata": {},
   "outputs": [],
   "source": [
    "epoch = 100\n",
    "batch_size = 10"
   ]
  },
  {
   "cell_type": "code",
   "execution_count": 39,
   "metadata": {},
   "outputs": [],
   "source": [
    "def schedule_steps(epoch, steps):\n",
    "    for step in steps:\n",
    "        if step[1] > epoch:\n",
    "            print(\"Setting learning rate to {}\".format(step[0]))\n",
    "            return step[0]\n",
    "        print(\"Setting learning rate to {}\".format(steps[-1][0]))\n",
    "        return steps[-1][0]"
   ]
  },
  {
   "cell_type": "code",
   "execution_count": 40,
   "metadata": {},
   "outputs": [
    {
     "name": "stdout",
     "output_type": "stream",
     "text": [
      "Setting learning rate to 3e-06\n"
     ]
    },
    {
     "data": {
      "text/plain": [
       "3e-06"
      ]
     },
     "execution_count": 40,
     "metadata": {},
     "output_type": "execute_result"
    }
   ],
   "source": [
    "steps = [(1e-6, 2), (1e-5, 10), (5e-6, 20), (3e-6, 25)]\n",
    "schedule_steps(epoch,steps)"
   ]
  },
  {
   "cell_type": "code",
   "execution_count": 41,
   "metadata": {},
   "outputs": [],
   "source": [
    "if steps is not None:\n",
    "    lrSchedule = LearningRateScheduler(lambda epoch: schedule_steps(epoch, steps))\n",
    "    callbacks.insert(0, lrSchedule)\n",
    "\n",
    "# callbacks.append(lrSchedule)"
   ]
  },
  {
   "cell_type": "code",
   "execution_count": 42,
   "metadata": {},
   "outputs": [],
   "source": [
    "from keras.callbacks import ReduceLROnPlateau\n",
    "\n",
    "reduce_lr = ReduceLROnPlateau(monitor='loss', factor=0.2,\n",
    "                              patience=10, min_lr=0.0000001)\n",
    "callbacks.append(reduce_lr)"
   ]
  },
  {
   "cell_type": "code",
   "execution_count": 43,
   "metadata": {},
   "outputs": [],
   "source": [
    "model.compile(optimizer=optimizer,\n",
    "              loss='categorical_crossentropy',\n",
    "              metrics=['accuracy'])"
   ]
  },
  {
   "cell_type": "code",
   "execution_count": 45,
   "metadata": {},
   "outputs": [
    {
     "name": "stdout",
     "output_type": "stream",
     "text": [
      "10\n"
     ]
    }
   ],
   "source": [
    "print(batch_size)"
   ]
  },
  {
   "cell_type": "code",
   "execution_count": 46,
   "metadata": {
    "scrolled": false
   },
   "outputs": [
    {
     "name": "stdout",
     "output_type": "stream",
     "text": [
      "Train on 177 samples, validate on 59 samples\n",
      "Epoch 1/100\n",
      "Setting learning rate to 1e-06\n",
      "Setting learning rate to 1e-06\n",
      "Setting learning rate to 1e-06\n"
     ]
    },
    {
     "ename": "ResourceExhaustedError",
     "evalue": "OOM when allocating tensor with shape[51200,4096] and type float on /job:localhost/replica:0/task:0/device:GPU:0 by allocator GPU_0_bfc\n\t [[{{node training_3/Adam/mul_163}} = Mul[T=DT_FLOAT, _device=\"/job:localhost/replica:0/task:0/device:GPU:0\"](Adam_1/beta_2/read, training_3/Adam/Variable_74/read)]]\nHint: If you want to see a list of allocated tensors when OOM happens, add report_tensor_allocations_upon_oom to RunOptions for current allocation info.\n\n\t [[{{node loss_3/add/_2015}} = _Recv[client_terminated=false, recv_device=\"/job:localhost/replica:0/task:0/device:CPU:0\", send_device=\"/job:localhost/replica:0/task:0/device:GPU:0\", send_device_incarnation=1, tensor_name=\"edge_3056_loss_3/add\", tensor_type=DT_FLOAT, _device=\"/job:localhost/replica:0/task:0/device:CPU:0\"]()]]\nHint: If you want to see a list of allocated tensors when OOM happens, add report_tensor_allocations_upon_oom to RunOptions for current allocation info.\n",
     "output_type": "error",
     "traceback": [
      "\u001b[0;31m---------------------------------------------------------------------------\u001b[0m",
      "\u001b[0;31mResourceExhaustedError\u001b[0m                    Traceback (most recent call last)",
      "\u001b[0;32m<ipython-input-46-67c1678b5418>\u001b[0m in \u001b[0;36m<module>\u001b[0;34m()\u001b[0m\n\u001b[0;32m----> 1\u001b[0;31m \u001b[0mhistory\u001b[0m \u001b[0;34m=\u001b[0m \u001b[0mmodel\u001b[0m\u001b[0;34m.\u001b[0m\u001b[0mfit\u001b[0m\u001b[0;34m(\u001b[0m\u001b[0mtrain_images\u001b[0m\u001b[0;34m,\u001b[0m \u001b[0mtrain_labels\u001b[0m\u001b[0;34m,\u001b[0m \u001b[0mvalidation_data\u001b[0m\u001b[0;34m=\u001b[0m\u001b[0;34m(\u001b[0m\u001b[0mvalidation_images\u001b[0m\u001b[0;34m,\u001b[0m \u001b[0mvalidation_labels\u001b[0m\u001b[0;34m)\u001b[0m\u001b[0;34m,\u001b[0m \u001b[0mepochs\u001b[0m\u001b[0;34m=\u001b[0m\u001b[0mepoch\u001b[0m\u001b[0;34m,\u001b[0m \u001b[0mbatch_size\u001b[0m\u001b[0;34m=\u001b[0m\u001b[0mbatch_size\u001b[0m\u001b[0;34m,\u001b[0m \u001b[0mcallbacks\u001b[0m\u001b[0;34m=\u001b[0m\u001b[0mcallbacks\u001b[0m\u001b[0;34m,\u001b[0m \u001b[0mverbose\u001b[0m\u001b[0;34m=\u001b[0m\u001b[0;36m1\u001b[0m\u001b[0;34m)\u001b[0m\u001b[0;34m\u001b[0m\u001b[0;34m\u001b[0m\u001b[0m\n\u001b[0m\u001b[1;32m      2\u001b[0m \u001b[0;31m#history = model.fit(train_images, train_labels, validation_split=0.30, ebpochs=epoch, batch_size=batch_size, callbacks=callbacks, verbose=1)b\u001b[0m\u001b[0;34m\u001b[0m\u001b[0;34m\u001b[0m\u001b[0;34m\u001b[0m\u001b[0m\n",
      "\u001b[0;32m/apps/gilbreth/ml/ml-toolkit/conda-5.1.0-py36/gpu/install/keras-2.2.4/lib/python3.6/site-packages/keras/engine/training.py\u001b[0m in \u001b[0;36mfit\u001b[0;34m(self, x, y, batch_size, epochs, verbose, callbacks, validation_split, validation_data, shuffle, class_weight, sample_weight, initial_epoch, steps_per_epoch, validation_steps, **kwargs)\u001b[0m\n\u001b[1;32m   1037\u001b[0m                                         \u001b[0minitial_epoch\u001b[0m\u001b[0;34m=\u001b[0m\u001b[0minitial_epoch\u001b[0m\u001b[0;34m,\u001b[0m\u001b[0;34m\u001b[0m\u001b[0;34m\u001b[0m\u001b[0m\n\u001b[1;32m   1038\u001b[0m                                         \u001b[0msteps_per_epoch\u001b[0m\u001b[0;34m=\u001b[0m\u001b[0msteps_per_epoch\u001b[0m\u001b[0;34m,\u001b[0m\u001b[0;34m\u001b[0m\u001b[0;34m\u001b[0m\u001b[0m\n\u001b[0;32m-> 1039\u001b[0;31m                                         validation_steps=validation_steps)\n\u001b[0m\u001b[1;32m   1040\u001b[0m \u001b[0;34m\u001b[0m\u001b[0m\n\u001b[1;32m   1041\u001b[0m     def evaluate(self, x=None, y=None,\n",
      "\u001b[0;32m/apps/gilbreth/ml/ml-toolkit/conda-5.1.0-py36/gpu/install/keras-2.2.4/lib/python3.6/site-packages/keras/engine/training_arrays.py\u001b[0m in \u001b[0;36mfit_loop\u001b[0;34m(model, f, ins, out_labels, batch_size, epochs, verbose, callbacks, val_f, val_ins, shuffle, callback_metrics, initial_epoch, steps_per_epoch, validation_steps)\u001b[0m\n\u001b[1;32m    197\u001b[0m                     \u001b[0mins_batch\u001b[0m\u001b[0;34m[\u001b[0m\u001b[0mi\u001b[0m\u001b[0;34m]\u001b[0m \u001b[0;34m=\u001b[0m \u001b[0mins_batch\u001b[0m\u001b[0;34m[\u001b[0m\u001b[0mi\u001b[0m\u001b[0;34m]\u001b[0m\u001b[0;34m.\u001b[0m\u001b[0mtoarray\u001b[0m\u001b[0;34m(\u001b[0m\u001b[0;34m)\u001b[0m\u001b[0;34m\u001b[0m\u001b[0;34m\u001b[0m\u001b[0m\n\u001b[1;32m    198\u001b[0m \u001b[0;34m\u001b[0m\u001b[0m\n\u001b[0;32m--> 199\u001b[0;31m                 \u001b[0mouts\u001b[0m \u001b[0;34m=\u001b[0m \u001b[0mf\u001b[0m\u001b[0;34m(\u001b[0m\u001b[0mins_batch\u001b[0m\u001b[0;34m)\u001b[0m\u001b[0;34m\u001b[0m\u001b[0;34m\u001b[0m\u001b[0m\n\u001b[0m\u001b[1;32m    200\u001b[0m                 \u001b[0mouts\u001b[0m \u001b[0;34m=\u001b[0m \u001b[0mto_list\u001b[0m\u001b[0;34m(\u001b[0m\u001b[0mouts\u001b[0m\u001b[0;34m)\u001b[0m\u001b[0;34m\u001b[0m\u001b[0;34m\u001b[0m\u001b[0m\n\u001b[1;32m    201\u001b[0m                 \u001b[0;32mfor\u001b[0m \u001b[0ml\u001b[0m\u001b[0;34m,\u001b[0m \u001b[0mo\u001b[0m \u001b[0;32min\u001b[0m \u001b[0mzip\u001b[0m\u001b[0;34m(\u001b[0m\u001b[0mout_labels\u001b[0m\u001b[0;34m,\u001b[0m \u001b[0mouts\u001b[0m\u001b[0;34m)\u001b[0m\u001b[0;34m:\u001b[0m\u001b[0;34m\u001b[0m\u001b[0;34m\u001b[0m\u001b[0m\n",
      "\u001b[0;32m/apps/gilbreth/ml/ml-toolkit/conda-5.1.0-py36/gpu/install/keras-2.2.4/lib/python3.6/site-packages/keras/backend/tensorflow_backend.py\u001b[0m in \u001b[0;36m__call__\u001b[0;34m(self, inputs)\u001b[0m\n\u001b[1;32m   2713\u001b[0m                 \u001b[0;32mreturn\u001b[0m \u001b[0mself\u001b[0m\u001b[0;34m.\u001b[0m\u001b[0m_legacy_call\u001b[0m\u001b[0;34m(\u001b[0m\u001b[0minputs\u001b[0m\u001b[0;34m)\u001b[0m\u001b[0;34m\u001b[0m\u001b[0;34m\u001b[0m\u001b[0m\n\u001b[1;32m   2714\u001b[0m \u001b[0;34m\u001b[0m\u001b[0m\n\u001b[0;32m-> 2715\u001b[0;31m             \u001b[0;32mreturn\u001b[0m \u001b[0mself\u001b[0m\u001b[0;34m.\u001b[0m\u001b[0m_call\u001b[0m\u001b[0;34m(\u001b[0m\u001b[0minputs\u001b[0m\u001b[0;34m)\u001b[0m\u001b[0;34m\u001b[0m\u001b[0;34m\u001b[0m\u001b[0m\n\u001b[0m\u001b[1;32m   2716\u001b[0m         \u001b[0;32melse\u001b[0m\u001b[0;34m:\u001b[0m\u001b[0;34m\u001b[0m\u001b[0;34m\u001b[0m\u001b[0m\n\u001b[1;32m   2717\u001b[0m             \u001b[0;32mif\u001b[0m \u001b[0mpy_any\u001b[0m\u001b[0;34m(\u001b[0m\u001b[0mis_tensor\u001b[0m\u001b[0;34m(\u001b[0m\u001b[0mx\u001b[0m\u001b[0;34m)\u001b[0m \u001b[0;32mfor\u001b[0m \u001b[0mx\u001b[0m \u001b[0;32min\u001b[0m \u001b[0minputs\u001b[0m\u001b[0;34m)\u001b[0m\u001b[0;34m:\u001b[0m\u001b[0;34m\u001b[0m\u001b[0;34m\u001b[0m\u001b[0m\n",
      "\u001b[0;32m/apps/gilbreth/ml/ml-toolkit/conda-5.1.0-py36/gpu/install/keras-2.2.4/lib/python3.6/site-packages/keras/backend/tensorflow_backend.py\u001b[0m in \u001b[0;36m_call\u001b[0;34m(self, inputs)\u001b[0m\n\u001b[1;32m   2673\u001b[0m             \u001b[0mfetched\u001b[0m \u001b[0;34m=\u001b[0m \u001b[0mself\u001b[0m\u001b[0;34m.\u001b[0m\u001b[0m_callable_fn\u001b[0m\u001b[0;34m(\u001b[0m\u001b[0;34m*\u001b[0m\u001b[0marray_vals\u001b[0m\u001b[0;34m,\u001b[0m \u001b[0mrun_metadata\u001b[0m\u001b[0;34m=\u001b[0m\u001b[0mself\u001b[0m\u001b[0;34m.\u001b[0m\u001b[0mrun_metadata\u001b[0m\u001b[0;34m)\u001b[0m\u001b[0;34m\u001b[0m\u001b[0;34m\u001b[0m\u001b[0m\n\u001b[1;32m   2674\u001b[0m         \u001b[0;32melse\u001b[0m\u001b[0;34m:\u001b[0m\u001b[0;34m\u001b[0m\u001b[0;34m\u001b[0m\u001b[0m\n\u001b[0;32m-> 2675\u001b[0;31m             \u001b[0mfetched\u001b[0m \u001b[0;34m=\u001b[0m \u001b[0mself\u001b[0m\u001b[0;34m.\u001b[0m\u001b[0m_callable_fn\u001b[0m\u001b[0;34m(\u001b[0m\u001b[0;34m*\u001b[0m\u001b[0marray_vals\u001b[0m\u001b[0;34m)\u001b[0m\u001b[0;34m\u001b[0m\u001b[0;34m\u001b[0m\u001b[0m\n\u001b[0m\u001b[1;32m   2676\u001b[0m         \u001b[0;32mreturn\u001b[0m \u001b[0mfetched\u001b[0m\u001b[0;34m[\u001b[0m\u001b[0;34m:\u001b[0m\u001b[0mlen\u001b[0m\u001b[0;34m(\u001b[0m\u001b[0mself\u001b[0m\u001b[0;34m.\u001b[0m\u001b[0moutputs\u001b[0m\u001b[0;34m)\u001b[0m\u001b[0;34m]\u001b[0m\u001b[0;34m\u001b[0m\u001b[0;34m\u001b[0m\u001b[0m\n\u001b[1;32m   2677\u001b[0m \u001b[0;34m\u001b[0m\u001b[0m\n",
      "\u001b[0;32m/apps/gilbreth/ml/ml-toolkit/conda-5.1.0-py36/gpu/install/tensorflow-1.12.0/lib/python3.6/site-packages/tensorflow/python/client/session.py\u001b[0m in \u001b[0;36m__call__\u001b[0;34m(self, *args, **kwargs)\u001b[0m\n\u001b[1;32m   1437\u001b[0m           ret = tf_session.TF_SessionRunCallable(\n\u001b[1;32m   1438\u001b[0m               \u001b[0mself\u001b[0m\u001b[0;34m.\u001b[0m\u001b[0m_session\u001b[0m\u001b[0;34m.\u001b[0m\u001b[0m_session\u001b[0m\u001b[0;34m,\u001b[0m \u001b[0mself\u001b[0m\u001b[0;34m.\u001b[0m\u001b[0m_handle\u001b[0m\u001b[0;34m,\u001b[0m \u001b[0margs\u001b[0m\u001b[0;34m,\u001b[0m \u001b[0mstatus\u001b[0m\u001b[0;34m,\u001b[0m\u001b[0;34m\u001b[0m\u001b[0;34m\u001b[0m\u001b[0m\n\u001b[0;32m-> 1439\u001b[0;31m               run_metadata_ptr)\n\u001b[0m\u001b[1;32m   1440\u001b[0m         \u001b[0;32mif\u001b[0m \u001b[0mrun_metadata\u001b[0m\u001b[0;34m:\u001b[0m\u001b[0;34m\u001b[0m\u001b[0;34m\u001b[0m\u001b[0m\n\u001b[1;32m   1441\u001b[0m           \u001b[0mproto_data\u001b[0m \u001b[0;34m=\u001b[0m \u001b[0mtf_session\u001b[0m\u001b[0;34m.\u001b[0m\u001b[0mTF_GetBuffer\u001b[0m\u001b[0;34m(\u001b[0m\u001b[0mrun_metadata_ptr\u001b[0m\u001b[0;34m)\u001b[0m\u001b[0;34m\u001b[0m\u001b[0;34m\u001b[0m\u001b[0m\n",
      "\u001b[0;32m/apps/gilbreth/ml/ml-toolkit/conda-5.1.0-py36/gpu/install/tensorflow-1.12.0/lib/python3.6/site-packages/tensorflow/python/framework/errors_impl.py\u001b[0m in \u001b[0;36m__exit__\u001b[0;34m(self, type_arg, value_arg, traceback_arg)\u001b[0m\n\u001b[1;32m    526\u001b[0m             \u001b[0;32mNone\u001b[0m\u001b[0;34m,\u001b[0m \u001b[0;32mNone\u001b[0m\u001b[0;34m,\u001b[0m\u001b[0;34m\u001b[0m\u001b[0;34m\u001b[0m\u001b[0m\n\u001b[1;32m    527\u001b[0m             \u001b[0mcompat\u001b[0m\u001b[0;34m.\u001b[0m\u001b[0mas_text\u001b[0m\u001b[0;34m(\u001b[0m\u001b[0mc_api\u001b[0m\u001b[0;34m.\u001b[0m\u001b[0mTF_Message\u001b[0m\u001b[0;34m(\u001b[0m\u001b[0mself\u001b[0m\u001b[0;34m.\u001b[0m\u001b[0mstatus\u001b[0m\u001b[0;34m.\u001b[0m\u001b[0mstatus\u001b[0m\u001b[0;34m)\u001b[0m\u001b[0;34m)\u001b[0m\u001b[0;34m,\u001b[0m\u001b[0;34m\u001b[0m\u001b[0;34m\u001b[0m\u001b[0m\n\u001b[0;32m--> 528\u001b[0;31m             c_api.TF_GetCode(self.status.status))\n\u001b[0m\u001b[1;32m    529\u001b[0m     \u001b[0;31m# Delete the underlying status object from memory otherwise it stays alive\u001b[0m\u001b[0;34m\u001b[0m\u001b[0;34m\u001b[0m\u001b[0;34m\u001b[0m\u001b[0m\n\u001b[1;32m    530\u001b[0m     \u001b[0;31m# as there is a reference to status from this from the traceback due to\u001b[0m\u001b[0;34m\u001b[0m\u001b[0;34m\u001b[0m\u001b[0;34m\u001b[0m\u001b[0m\n",
      "\u001b[0;31mResourceExhaustedError\u001b[0m: OOM when allocating tensor with shape[51200,4096] and type float on /job:localhost/replica:0/task:0/device:GPU:0 by allocator GPU_0_bfc\n\t [[{{node training_3/Adam/mul_163}} = Mul[T=DT_FLOAT, _device=\"/job:localhost/replica:0/task:0/device:GPU:0\"](Adam_1/beta_2/read, training_3/Adam/Variable_74/read)]]\nHint: If you want to see a list of allocated tensors when OOM happens, add report_tensor_allocations_upon_oom to RunOptions for current allocation info.\n\n\t [[{{node loss_3/add/_2015}} = _Recv[client_terminated=false, recv_device=\"/job:localhost/replica:0/task:0/device:CPU:0\", send_device=\"/job:localhost/replica:0/task:0/device:GPU:0\", send_device_incarnation=1, tensor_name=\"edge_3056_loss_3/add\", tensor_type=DT_FLOAT, _device=\"/job:localhost/replica:0/task:0/device:CPU:0\"]()]]\nHint: If you want to see a list of allocated tensors when OOM happens, add report_tensor_allocations_upon_oom to RunOptions for current allocation info.\n"
     ]
    }
   ],
   "source": [
    "history = model.fit(train_images, train_labels, validation_data=(validation_images, validation_labels), epochs=epoch, batch_size=batch_size, callbacks=callbacks, verbose=1)\n",
    "#history = model.fit(train_images, train_labels, validation_split=0.30, ebpochs=epoch, batch_size=batch_size, callbacks=callbacks, verbose=1)b"
   ]
  },
  {
   "cell_type": "code",
   "execution_count": null,
   "metadata": {},
   "outputs": [],
   "source": [
    "model_dir='/home/azehady/projects/automatic_fossil_image_detection'"
   ]
  },
  {
   "cell_type": "code",
   "execution_count": 18,
   "metadata": {},
   "outputs": [],
   "source": [
    "#best_model_file = './models/' + 'best_vgg19_extended_adam_epoch_200_two_fc_40962019-03-21 22:03:02_2019-03-21 22:04:46.h5'\n",
    "#last_model_file = './models/' + 'last_vgg19_extended_adam_epoch_200_two_fc_40962019-03-21 22:03:02_2019-03-21 22:04:46.h5'\n",
    "\n",
    "#best_model_file = './models/' + 'best_vgg19_extended_adam_epoch_200_two_fc_4096_lr_0.01_no_reduce_lr_callback_time_2019-03-28 13:14:53_2019-03-28 13:15:37.h5'\n",
    "#last_model_file = './models/' + 'last_vgg19_extended_adam_epoch_200_two_fc_4096_lr_0.01_no_reduce_lr_callback_time_2019-03-28 13:14:53_2019-03-28 13:15:37.h5'\n",
    "\n",
    "#best_model_file = './models/best_vgg19_extended_adam_epoch_200_two_fc_4096_lr_0.01_no_reduce_lr_callback_time_2019-03-28 13:14:53_2019-03-28 13:15:37.h5'\n",
    "#last_model_file = './models/last_vgg19_extended_adam_epoch_200_two_fc_4096_lr_0.01_no_reduce_lr_callback_time_2019-03-28 13:14:53_2019-03-28 13:15:37.h5'\n",
    "\n",
    "best_model_file = model_dir + '/models/best_vgg19_extended_adam_epoch_200_two_fc_4096_lr_0.01_time_2019-03-27 23:54:18_2019-03-27 23:54:44.h5'\n",
    "last_model_file = model_dir + '/models/last_vgg19_extended_adam_epoch_200_two_fc_4096_lr_0.01_time_2019-03-27 23:54:18_2019-03-27 23:54:44.h5'"
   ]
  },
  {
   "cell_type": "code",
   "execution_count": 19,
   "metadata": {
    "scrolled": true
   },
   "outputs": [
    {
     "ename": "OSError",
     "evalue": "Unable to open file (unable to open file: name = './models/last_vgg19_extended_adam_epoch_200_two_fc_4096_lr_0.01_time_2019-03-27 23:54:18_2019-03-27 23:54:44.h5', errno = 2, error message = 'No such file or directory', flags = 0, o_flags = 0)",
     "output_type": "error",
     "traceback": [
      "\u001b[0;31m---------------------------------------------------------------------------\u001b[0m",
      "\u001b[0;31mOSError\u001b[0m                                   Traceback (most recent call last)",
      "\u001b[0;32m<ipython-input-19-cd76a858160e>\u001b[0m in \u001b[0;36m<module>\u001b[0;34m()\u001b[0m\n\u001b[1;32m      1\u001b[0m \u001b[0;31m# last model\u001b[0m\u001b[0;34m\u001b[0m\u001b[0;34m\u001b[0m\u001b[0;34m\u001b[0m\u001b[0m\n\u001b[1;32m      2\u001b[0m \u001b[0;31m# last_convbase_vgg19_img_dim_331_kernel_regularizer2018-10-28 02:20:00_2018-10-28 03:53:16.h5\u001b[0m\u001b[0;34m\u001b[0m\u001b[0;34m\u001b[0m\u001b[0;34m\u001b[0m\u001b[0m\n\u001b[0;32m----> 3\u001b[0;31m \u001b[0mmodel\u001b[0m\u001b[0;34m.\u001b[0m\u001b[0mload_weights\u001b[0m\u001b[0;34m(\u001b[0m\u001b[0mlast_model_file\u001b[0m\u001b[0;34m)\u001b[0m\u001b[0;34m\u001b[0m\u001b[0;34m\u001b[0m\u001b[0m\n\u001b[0m\u001b[1;32m      4\u001b[0m \u001b[0mres_last\u001b[0m \u001b[0;34m=\u001b[0m \u001b[0mmodel\u001b[0m\u001b[0;34m.\u001b[0m\u001b[0mevaluate\u001b[0m\u001b[0;34m(\u001b[0m\u001b[0mtest_images\u001b[0m\u001b[0;34m,\u001b[0m \u001b[0mtest_labels\u001b[0m\u001b[0;34m)\u001b[0m\u001b[0;34m\u001b[0m\u001b[0;34m\u001b[0m\u001b[0m\n\u001b[1;32m      5\u001b[0m \u001b[0mprint\u001b[0m\u001b[0;34m(\u001b[0m\u001b[0mres_last\u001b[0m\u001b[0;34m)\u001b[0m\u001b[0;34m\u001b[0m\u001b[0;34m\u001b[0m\u001b[0m\n",
      "\u001b[0;32m/apps/gilbreth/ml/ml-toolkit/conda-5.1.0-py36/gpu/install/keras-2.2.4/lib/python3.6/site-packages/keras/engine/network.py\u001b[0m in \u001b[0;36mload_weights\u001b[0;34m(self, filepath, by_name, skip_mismatch, reshape)\u001b[0m\n\u001b[1;32m   1155\u001b[0m         \u001b[0;32mif\u001b[0m \u001b[0mh5py\u001b[0m \u001b[0;32mis\u001b[0m \u001b[0;32mNone\u001b[0m\u001b[0;34m:\u001b[0m\u001b[0;34m\u001b[0m\u001b[0;34m\u001b[0m\u001b[0m\n\u001b[1;32m   1156\u001b[0m             \u001b[0;32mraise\u001b[0m \u001b[0mImportError\u001b[0m\u001b[0;34m(\u001b[0m\u001b[0;34m'`load_weights` requires h5py.'\u001b[0m\u001b[0;34m)\u001b[0m\u001b[0;34m\u001b[0m\u001b[0;34m\u001b[0m\u001b[0m\n\u001b[0;32m-> 1157\u001b[0;31m         \u001b[0;32mwith\u001b[0m \u001b[0mh5py\u001b[0m\u001b[0;34m.\u001b[0m\u001b[0mFile\u001b[0m\u001b[0;34m(\u001b[0m\u001b[0mfilepath\u001b[0m\u001b[0;34m,\u001b[0m \u001b[0mmode\u001b[0m\u001b[0;34m=\u001b[0m\u001b[0;34m'r'\u001b[0m\u001b[0;34m)\u001b[0m \u001b[0;32mas\u001b[0m \u001b[0mf\u001b[0m\u001b[0;34m:\u001b[0m\u001b[0;34m\u001b[0m\u001b[0;34m\u001b[0m\u001b[0m\n\u001b[0m\u001b[1;32m   1158\u001b[0m             \u001b[0;32mif\u001b[0m \u001b[0;34m'layer_names'\u001b[0m \u001b[0;32mnot\u001b[0m \u001b[0;32min\u001b[0m \u001b[0mf\u001b[0m\u001b[0;34m.\u001b[0m\u001b[0mattrs\u001b[0m \u001b[0;32mand\u001b[0m \u001b[0;34m'model_weights'\u001b[0m \u001b[0;32min\u001b[0m \u001b[0mf\u001b[0m\u001b[0;34m:\u001b[0m\u001b[0;34m\u001b[0m\u001b[0;34m\u001b[0m\u001b[0m\n\u001b[1;32m   1159\u001b[0m                 \u001b[0mf\u001b[0m \u001b[0;34m=\u001b[0m \u001b[0mf\u001b[0m\u001b[0;34m[\u001b[0m\u001b[0;34m'model_weights'\u001b[0m\u001b[0;34m]\u001b[0m\u001b[0;34m\u001b[0m\u001b[0;34m\u001b[0m\u001b[0m\n",
      "\u001b[0;32m/apps/gilbreth/ml/ml-toolkit/conda-5.1.0-py36/gpu/install/tensorflow-1.12.0/lib/python3.6/site-packages/h5py/_hl/files.py\u001b[0m in \u001b[0;36m__init__\u001b[0;34m(self, name, mode, driver, libver, userblock_size, swmr, **kwds)\u001b[0m\n\u001b[1;32m    310\u001b[0m             \u001b[0;32mwith\u001b[0m \u001b[0mphil\u001b[0m\u001b[0;34m:\u001b[0m\u001b[0;34m\u001b[0m\u001b[0;34m\u001b[0m\u001b[0m\n\u001b[1;32m    311\u001b[0m                 \u001b[0mfapl\u001b[0m \u001b[0;34m=\u001b[0m \u001b[0mmake_fapl\u001b[0m\u001b[0;34m(\u001b[0m\u001b[0mdriver\u001b[0m\u001b[0;34m,\u001b[0m \u001b[0mlibver\u001b[0m\u001b[0;34m,\u001b[0m \u001b[0;34m**\u001b[0m\u001b[0mkwds\u001b[0m\u001b[0;34m)\u001b[0m\u001b[0;34m\u001b[0m\u001b[0;34m\u001b[0m\u001b[0m\n\u001b[0;32m--> 312\u001b[0;31m                 \u001b[0mfid\u001b[0m \u001b[0;34m=\u001b[0m \u001b[0mmake_fid\u001b[0m\u001b[0;34m(\u001b[0m\u001b[0mname\u001b[0m\u001b[0;34m,\u001b[0m \u001b[0mmode\u001b[0m\u001b[0;34m,\u001b[0m \u001b[0muserblock_size\u001b[0m\u001b[0;34m,\u001b[0m \u001b[0mfapl\u001b[0m\u001b[0;34m,\u001b[0m \u001b[0mswmr\u001b[0m\u001b[0;34m=\u001b[0m\u001b[0mswmr\u001b[0m\u001b[0;34m)\u001b[0m\u001b[0;34m\u001b[0m\u001b[0;34m\u001b[0m\u001b[0m\n\u001b[0m\u001b[1;32m    313\u001b[0m \u001b[0;34m\u001b[0m\u001b[0m\n\u001b[1;32m    314\u001b[0m                 \u001b[0;32mif\u001b[0m \u001b[0mswmr_support\u001b[0m\u001b[0;34m:\u001b[0m\u001b[0;34m\u001b[0m\u001b[0;34m\u001b[0m\u001b[0m\n",
      "\u001b[0;32m/apps/gilbreth/ml/ml-toolkit/conda-5.1.0-py36/gpu/install/tensorflow-1.12.0/lib/python3.6/site-packages/h5py/_hl/files.py\u001b[0m in \u001b[0;36mmake_fid\u001b[0;34m(name, mode, userblock_size, fapl, fcpl, swmr)\u001b[0m\n\u001b[1;32m    140\u001b[0m         \u001b[0;32mif\u001b[0m \u001b[0mswmr\u001b[0m \u001b[0;32mand\u001b[0m \u001b[0mswmr_support\u001b[0m\u001b[0;34m:\u001b[0m\u001b[0;34m\u001b[0m\u001b[0;34m\u001b[0m\u001b[0m\n\u001b[1;32m    141\u001b[0m             \u001b[0mflags\u001b[0m \u001b[0;34m|=\u001b[0m \u001b[0mh5f\u001b[0m\u001b[0;34m.\u001b[0m\u001b[0mACC_SWMR_READ\u001b[0m\u001b[0;34m\u001b[0m\u001b[0;34m\u001b[0m\u001b[0m\n\u001b[0;32m--> 142\u001b[0;31m         \u001b[0mfid\u001b[0m \u001b[0;34m=\u001b[0m \u001b[0mh5f\u001b[0m\u001b[0;34m.\u001b[0m\u001b[0mopen\u001b[0m\u001b[0;34m(\u001b[0m\u001b[0mname\u001b[0m\u001b[0;34m,\u001b[0m \u001b[0mflags\u001b[0m\u001b[0;34m,\u001b[0m \u001b[0mfapl\u001b[0m\u001b[0;34m=\u001b[0m\u001b[0mfapl\u001b[0m\u001b[0;34m)\u001b[0m\u001b[0;34m\u001b[0m\u001b[0;34m\u001b[0m\u001b[0m\n\u001b[0m\u001b[1;32m    143\u001b[0m     \u001b[0;32melif\u001b[0m \u001b[0mmode\u001b[0m \u001b[0;34m==\u001b[0m \u001b[0;34m'r+'\u001b[0m\u001b[0;34m:\u001b[0m\u001b[0;34m\u001b[0m\u001b[0;34m\u001b[0m\u001b[0m\n\u001b[1;32m    144\u001b[0m         \u001b[0mfid\u001b[0m \u001b[0;34m=\u001b[0m \u001b[0mh5f\u001b[0m\u001b[0;34m.\u001b[0m\u001b[0mopen\u001b[0m\u001b[0;34m(\u001b[0m\u001b[0mname\u001b[0m\u001b[0;34m,\u001b[0m \u001b[0mh5f\u001b[0m\u001b[0;34m.\u001b[0m\u001b[0mACC_RDWR\u001b[0m\u001b[0;34m,\u001b[0m \u001b[0mfapl\u001b[0m\u001b[0;34m=\u001b[0m\u001b[0mfapl\u001b[0m\u001b[0;34m)\u001b[0m\u001b[0;34m\u001b[0m\u001b[0;34m\u001b[0m\u001b[0m\n",
      "\u001b[0;32mh5py/_objects.pyx\u001b[0m in \u001b[0;36mh5py._objects.with_phil.wrapper\u001b[0;34m()\u001b[0m\n",
      "\u001b[0;32mh5py/_objects.pyx\u001b[0m in \u001b[0;36mh5py._objects.with_phil.wrapper\u001b[0;34m()\u001b[0m\n",
      "\u001b[0;32mh5py/h5f.pyx\u001b[0m in \u001b[0;36mh5py.h5f.open\u001b[0;34m()\u001b[0m\n",
      "\u001b[0;31mOSError\u001b[0m: Unable to open file (unable to open file: name = './models/last_vgg19_extended_adam_epoch_200_two_fc_4096_lr_0.01_time_2019-03-27 23:54:18_2019-03-27 23:54:44.h5', errno = 2, error message = 'No such file or directory', flags = 0, o_flags = 0)"
     ]
    }
   ],
   "source": [
    "# last model\n",
    "# last_convbase_vgg19_img_dim_331_kernel_regularizer2018-10-28 02:20:00_2018-10-28 03:53:16.h5\n",
    "model.load_weights(last_model_file)\n",
    "res_last = model.evaluate(test_images, test_labels)\n",
    "print(res_last)\n",
    "\n",
    "# best model\n",
    "# ./models/"
   ]
  },
  {
   "cell_type": "code",
   "execution_count": null,
   "metadata": {},
   "outputs": [],
   "source": []
  }
 ],
 "metadata": {
  "kernelspec": {
   "display_name": "Python 3.6 - Learning [learning/conda-5.1.0-py36-gpu]",
   "language": "python",
   "name": "sys_learning36"
  },
  "language_info": {
   "codemirror_mode": {
    "name": "ipython",
    "version": 3
   },
   "file_extension": ".py",
   "mimetype": "text/x-python",
   "name": "python",
   "nbconvert_exporter": "python",
   "pygments_lexer": "ipython3",
   "version": "3.6.4"
  }
 },
 "nbformat": 4,
 "nbformat_minor": 2
}
